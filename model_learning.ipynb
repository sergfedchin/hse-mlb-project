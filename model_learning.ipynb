{
 "cells": [
  {
   "cell_type": "markdown",
   "id": "b5979d03",
   "metadata": {},
   "source": [
    "#                           Предсказание кассовых сборов фильмов"
   ]
  },
  {
   "cell_type": "markdown",
   "id": "db0e5f9b",
   "metadata": {},
   "source": [
    "## Часть 2: Подбор и обучение моделей"
   ]
  },
  {
   "cell_type": "code",
   "execution_count": 461,
   "id": "5cba41c5",
   "metadata": {},
   "outputs": [],
   "source": [
    "%config IPCompleter.greedy=True"
   ]
  },
  {
   "cell_type": "code",
   "execution_count": 462,
   "id": "443e0d6e",
   "metadata": {},
   "outputs": [],
   "source": [
    "import numpy as np\n",
    "import pandas as pd\n",
    "from sklearn.preprocessing import MinMaxScaler\n",
    "from sklearn.model_selection import train_test_split\n",
    "from sklearn.linear_model import LogisticRegression\n",
    "from sklearn.metrics import accuracy_score, recall_score, f1_score\n",
    "from sklearn.neighbors import KNeighborsClassifier\n",
    "from sklearn.svm import SVC\n",
    "from sklearn.naive_bayes import MultinomialNB\n",
    "from sklearn.preprocessing import MinMaxScaler\n",
    "from sklearn.tree import DecisionTreeClassifier\n",
    "from sklearn.ensemble import RandomForestClassifier\n",
    "from sklearn.model_selection import GridSearchCV"
   ]
  },
  {
   "cell_type": "markdown",
   "id": "d51baabe",
   "metadata": {},
   "source": [
    "Считываем данные предобработанные в предыдущей части и выделим таргет(который преобразуем в классы) и остальные фичи"
   ]
  },
  {
   "cell_type": "code",
   "execution_count": 463,
   "id": "2d91f221",
   "metadata": {},
   "outputs": [],
   "source": [
    "df = pd.read_csv(\"data/preprocessed_train.csv\")"
   ]
  },
  {
   "cell_type": "code",
   "execution_count": 464,
   "id": "1d394ea1",
   "metadata": {},
   "outputs": [],
   "source": [
    "x_features = df.drop(['revenue'], axis=1)"
   ]
  },
  {
   "cell_type": "code",
   "execution_count": 465,
   "id": "1ccd4633",
   "metadata": {},
   "outputs": [],
   "source": [
    "x_features = x_features.drop(['description'], axis=1) #for now only"
   ]
  },
  {
   "cell_type": "code",
   "execution_count": 466,
   "id": "935dee47",
   "metadata": {},
   "outputs": [],
   "source": [
    "scaler = MinMaxScaler()\n",
    "scaler.fit(x_features)\n",
    "x_features = scaler.transform(x_features)"
   ]
  },
  {
   "cell_type": "markdown",
   "id": "992e75cc",
   "metadata": {},
   "source": [
    "Будем решать задачу классификация относительно того, в какой диапозон прибыли попадёт тот или иной фильм"
   ]
  },
  {
   "cell_type": "code",
   "execution_count": 467,
   "id": "e7943217",
   "metadata": {},
   "outputs": [],
   "source": [
    "def classify_revenue(revenue):\n",
    "    money_amount = len(str(revenue*5)) - 1\n",
    "    if money_amount <= 5:\n",
    "        return 0\n",
    "    return money_amount - 5"
   ]
  },
  {
   "cell_type": "code",
   "execution_count": 468,
   "id": "5336a988",
   "metadata": {},
   "outputs": [],
   "source": [
    "y_df = df['revenue']"
   ]
  },
  {
   "cell_type": "code",
   "execution_count": 469,
   "id": "baf4a7bc",
   "metadata": {},
   "outputs": [],
   "source": [
    "y_df = y_df.apply(classify_revenue)"
   ]
  },
  {
   "cell_type": "markdown",
   "id": "a94c03fb",
   "metadata": {},
   "source": [
    "Посмотрим на распределение классов"
   ]
  },
  {
   "cell_type": "code",
   "execution_count": 470,
   "id": "fcc8fb54",
   "metadata": {},
   "outputs": [
    {
     "data": {
      "text/plain": [
       "<Axes: >"
      ]
     },
     "execution_count": 470,
     "metadata": {},
     "output_type": "execute_result"
    },
    {
     "data": {
      "image/png": "[encoded data removed]",
      "text/plain": [
       "<Figure size 640x480 with 1 Axes>"
      ]
     },
     "metadata": {},
     "output_type": "display_data"
    }
   ],
   "source": [
    "y_df.hist(bins=20)"
   ]
  },
  {
   "cell_type": "code",
   "execution_count": 471,
   "id": "9fd17adb",
   "metadata": {},
   "outputs": [],
   "source": [
    "x_train, x_test, y_train, y_test = train_test_split(x_features, y_df, train_size=0.8)"
   ]
  },
  {
   "cell_type": "markdown",
   "id": "a88881c8",
   "metadata": {},
   "source": [
    "Обучим несколько различных моделей классификации с разными параметрами и будем считать F1 Score, чтобы определить их качество"
   ]
  },
  {
   "cell_type": "code",
   "execution_count": 472,
   "id": "328f54ea",
   "metadata": {},
   "outputs": [],
   "source": [
    "model_list = [LogisticRegression(max_iter=2000), KNeighborsClassifier(n_neighbors=1), KNeighborsClassifier(n_neighbors=5), SVC(kernel='linear'), SVC(kernel='poly'), SVC(kernel='rbf'), MultinomialNB(), DecisionTreeClassifier()]"
   ]
  },
  {
   "cell_type": "code",
   "execution_count": 473,
   "id": "97e07202",
   "metadata": {},
   "outputs": [],
   "source": [
    "def learn_model_and_show_f1_score(model):\n",
    "    model.fit(x_train, y_train)\n",
    "    y_pred = model.predict(x_test)\n",
    "    print(f\"{type(model).__name__} F1 Score is: {f1_score(y_test,y_pred,average='weighted'):.4f}\")"
   ]
  },
  {
   "cell_type": "code",
   "execution_count": 474,
   "id": "d095efe4",
   "metadata": {},
   "outputs": [
    {
     "name": "stdout",
     "output_type": "stream",
     "text": [
      "LogisticRegression F1 Score is: 0.4875\n",
      "KNeighborsClassifier F1 Score is: 0.3939\n",
      "KNeighborsClassifier F1 Score is: 0.4449\n",
      "SVC F1 Score is: 0.4784\n",
      "SVC F1 Score is: 0.4304\n",
      "SVC F1 Score is: 0.4182\n",
      "MultinomialNB F1 Score is: 0.3970\n",
      "DecisionTreeClassifier F1 Score is: 0.5142\n"
     ]
    }
   ],
   "source": [
    "for model in model_list:\n",
    "    learn_model_and_show_f1_score(model)"
   ]
  },
  {
   "cell_type": "markdown",
   "id": "fe0ee750",
   "metadata": {},
   "source": [
    "Также обучим Random_Forest_Classifier, подбирая параметры с помозью Grid_Seacrh."
   ]
  },
  {
   "cell_type": "code",
   "execution_count": 475,
   "id": "50d4b518",
   "metadata": {},
   "outputs": [],
   "source": [
    "random_forest_classifier_params = {\n",
    "    'n_estimators': [5, 100, 500,1000,10000],\n",
    "    'criterion': ['gini', 'entropy'],\n",
    "    'max_depth': [5, 100, 150, 200, 250]\n",
    "}"
   ]
  },
  {
   "cell_type": "code",
   "execution_count": 476,
   "id": "1332f160",
   "metadata": {},
   "outputs": [
    {
     "name": "stdout",
     "output_type": "stream",
     "text": [
      "CPU times: total: 1h 10min 1s\n",
      "Wall time: 1h 10min 35s\n"
     ]
    },
    {
     "data": {
      "text/html": [
       "<style>#sk-container-id-78 {color: black;background-color: white;}#sk-container-id-78 pre{padding: 0;}#sk-container-id-78 div.sk-toggleable {background-color: white;}#sk-container-id-78 label.sk-toggleable__label {cursor: pointer;display: block;width: 100%;margin-bottom: 0;padding: 0.3em;box-sizing: border-box;text-align: center;}#sk-container-id-78 label.sk-toggleable__label-arrow:before {content: \"▸\";float: left;margin-right: 0.25em;color: #696969;}#sk-container-id-78 label.sk-toggleable__label-arrow:hover:before {color: black;}#sk-container-id-78 div.sk-estimator:hover label.sk-toggleable__label-arrow:before {color: black;}#sk-container-id-78 div.sk-toggleable__content {max-height: 0;max-width: 0;overflow: hidden;text-align: left;background-color: #f0f8ff;}#sk-container-id-78 div.sk-toggleable__content pre {margin: 0.2em;color: black;border-radius: 0.25em;background-color: #f0f8ff;}#sk-container-id-78 input.sk-toggleable__control:checked~div.sk-toggleable__content {max-height: 200px;max-width: 100%;overflow: auto;}#sk-container-id-78 input.sk-toggleable__control:checked~label.sk-toggleable__label-arrow:before {content: \"▾\";}#sk-container-id-78 div.sk-estimator input.sk-toggleable__control:checked~label.sk-toggleable__label {background-color: #d4ebff;}#sk-container-id-78 div.sk-label input.sk-toggleable__control:checked~label.sk-toggleable__label {background-color: #d4ebff;}#sk-container-id-78 input.sk-hidden--visually {border: 0;clip: rect(1px 1px 1px 1px);clip: rect(1px, 1px, 1px, 1px);height: 1px;margin: -1px;overflow: hidden;padding: 0;position: absolute;width: 1px;}#sk-container-id-78 div.sk-estimator {font-family: monospace;background-color: #f0f8ff;border: 1px dotted black;border-radius: 0.25em;box-sizing: border-box;margin-bottom: 0.5em;}#sk-container-id-78 div.sk-estimator:hover {background-color: #d4ebff;}#sk-container-id-78 div.sk-parallel-item::after {content: \"\";width: 100%;border-bottom: 1px solid gray;flex-grow: 1;}#sk-container-id-78 div.sk-label:hover label.sk-toggleable__label {background-color: #d4ebff;}#sk-container-id-78 div.sk-serial::before {content: \"\";position: absolute;border-left: 1px solid gray;box-sizing: border-box;top: 0;bottom: 0;left: 50%;z-index: 0;}#sk-container-id-78 div.sk-serial {display: flex;flex-direction: column;align-items: center;background-color: white;padding-right: 0.2em;padding-left: 0.2em;position: relative;}#sk-container-id-78 div.sk-item {position: relative;z-index: 1;}#sk-container-id-78 div.sk-parallel {display: flex;align-items: stretch;justify-content: center;background-color: white;position: relative;}#sk-container-id-78 div.sk-item::before, #sk-container-id-78 div.sk-parallel-item::before {content: \"\";position: absolute;border-left: 1px solid gray;box-sizing: border-box;top: 0;bottom: 0;left: 50%;z-index: -1;}#sk-container-id-78 div.sk-parallel-item {display: flex;flex-direction: column;z-index: 1;position: relative;background-color: white;}#sk-container-id-78 div.sk-parallel-item:first-child::after {align-self: flex-end;width: 50%;}#sk-container-id-78 div.sk-parallel-item:last-child::after {align-self: flex-start;width: 50%;}#sk-container-id-78 div.sk-parallel-item:only-child::after {width: 0;}#sk-container-id-78 div.sk-dashed-wrapped {border: 1px dashed gray;margin: 0 0.4em 0.5em 0.4em;box-sizing: border-box;padding-bottom: 0.4em;background-color: white;}#sk-container-id-78 div.sk-label label {font-family: monospace;font-weight: bold;display: inline-block;line-height: 1.2em;}#sk-container-id-78 div.sk-label-container {text-align: center;}#sk-container-id-78 div.sk-container {/* jupyter's `normalize.less` sets `[hidden] { display: none; }` but bootstrap.min.css set `[hidden] { display: none !important; }` so we also need the `!important` here to be able to override the default hidden behavior on the sphinx rendered scikit-learn.org. See: https://github.com/scikit-learn/scikit-learn/issues/21755 */display: inline-block !important;position: relative;}#sk-container-id-78 div.sk-text-repr-fallback {display: none;}</style><div id=\"sk-container-id-78\" class=\"sk-top-container\"><div class=\"sk-text-repr-fallback\"><pre>RandomForestClassifier(max_depth=150, n_estimators=10000)</pre><b>In a Jupyter environment, please rerun this cell to show the HTML representation or trust the notebook. <br />On GitHub, the HTML representation is unable to render, please try loading this page with nbviewer.org.</b></div><div class=\"sk-container\" hidden><div class=\"sk-item\"><div class=\"sk-estimator sk-toggleable\"><input class=\"sk-toggleable__control sk-hidden--visually\" id=\"sk-estimator-id-78\" type=\"checkbox\" checked><label for=\"sk-estimator-id-78\" class=\"sk-toggleable__label sk-toggleable__label-arrow\">RandomForestClassifier</label><div class=\"sk-toggleable__content\"><pre>RandomForestClassifier(max_depth=150, n_estimators=10000)</pre></div></div></div></div></div>"
      ],
      "text/plain": [
       "RandomForestClassifier(max_depth=150, n_estimators=10000)"
      ]
     },
     "execution_count": 476,
     "metadata": {},
     "output_type": "execute_result"
    }
   ],
   "source": [
    "%%time\n",
    "search = GridSearchCV(RandomForestClassifier(), random_forest_classifier_params)\n",
    "search.fit(x_train, y_train)\n",
    "search.best_estimator_"
   ]
  },
  {
   "cell_type": "code",
   "execution_count": null,
   "id": "6d6f7354",
   "metadata": {},
   "outputs": [],
   "source": []
  }
 ],
 "metadata": {
  "kernelspec": {
   "display_name": "Python 3 (ipykernel)",
   "language": "python",
   "name": "python3"
  },
  "language_info": {
   "codemirror_mode": {
    "name": "ipython",
    "version": 3
   },
   "file_extension": ".py",
   "mimetype": "text/x-python",
   "name": "python",
   "nbconvert_exporter": "python",
   "pygments_lexer": "ipython3",
   "version": "3.10.9"
  }
 },
 "nbformat": 4,
 "nbformat_minor": 5
}
