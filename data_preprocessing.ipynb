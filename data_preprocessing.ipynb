{
 "cells": [
  {
   "cell_type": "markdown",
   "id": "c53a9559",
   "metadata": {},
   "source": [
    "#                           Предсказание кассовых сборов фильмов"
   ]
  },
  {
   "cell_type": "markdown",
   "id": "af94652a",
   "metadata": {},
   "source": [
    "Для предсказания будем использовать датасет с Каггла: TMDB Box Office Prediction - https://www.kaggle.com/c/tmdb-box-office-prediction"
   ]
  },
  {
   "cell_type": "code",
   "execution_count": 1,
   "id": "df6e1407",
   "metadata": {},
   "outputs": [],
   "source": [
    "%config IPCompleter.greedy=True"
   ]
  },
  {
   "cell_type": "code",
   "execution_count": 2,
   "id": "c187c957",
   "metadata": {},
   "outputs": [],
   "source": [
    "# !pip install -r requirements.txt"
   ]
  },
  {
   "cell_type": "markdown",
   "id": "7bea6272",
   "metadata": {},
   "source": [
    "Заимпортим все необходимые библиотеки"
   ]
  },
  {
   "cell_type": "code",
   "execution_count": 3,
   "id": "9e6fd23e",
   "metadata": {},
   "outputs": [],
   "source": [
    "import numpy as np\n",
    "import pandas as pd\n",
    "import matplotlib.pyplot as plt\n",
    "import re"
   ]
  },
  {
   "cell_type": "code",
   "execution_count": 4,
   "id": "bfd55864",
   "metadata": {},
   "outputs": [],
   "source": [
    "import warnings\n",
    "\n",
    "warnings.filterwarnings(\"ignore\")"
   ]
  },
  {
   "cell_type": "code",
   "execution_count": 5,
   "id": "b0ab8a09",
   "metadata": {},
   "outputs": [],
   "source": [
    "df = pd.read_csv(\"data/train.csv\")"
   ]
  },
  {
   "cell_type": "code",
   "execution_count": 6,
   "id": "a8602788",
   "metadata": {},
   "outputs": [],
   "source": [
    "df"
   ]
  },
  {
   "cell_type": "markdown",
   "id": "9e8c92a1",
   "metadata": {},
   "source": [
    "## Часть 1: предобработка данных и подготовка к обучению"
   ]
  },
  {
   "cell_type": "markdown",
   "id": "a33f65ea",
   "metadata": {},
   "source": [
    "Удалим ненужные колонки: пока что считаем, что название фильма нерелевантно, лишние id нам не нужны, как и ссылки"
   ]
  },
  {
   "cell_type": "code",
   "execution_count": 7,
   "id": "bef9efb8",
   "metadata": {},
   "outputs": [],
   "source": [
    "del df['id']\n",
    "del df['homepage']\n",
    "del df['imdb_id']\n",
    "del df['original_title']\n",
    "del df['title']\n",
    "del df['poster_path']\n",
    "del df['status']"
   ]
  },
  {
   "cell_type": "markdown",
   "id": "9bce04bc",
   "metadata": {},
   "source": [
    "Для нас не будет важно, в какой коллекции находится фильм, будет достаточно того, что он находится в *какой-то*"
   ]
  },
  {
   "cell_type": "code",
   "execution_count": 9,
   "id": "98dda30c",
   "metadata": {},
   "outputs": [],
   "source": [
    "df[\"belongs_to_collection\"].replace([np.nan, -np.inf], 0, inplace=True)\n",
    "df[\"belongs_to_collection\"] = df[\"belongs_to_collection\"].apply(lambda x: int(isinstance(x, str)))"
   ]
  },
  {
   "cell_type": "markdown",
   "id": "0d876e64",
   "metadata": {},
   "source": [
    "Заметим, что у нас много признаков находятся в строковом представлении словаря. Превратим их в нормальные словари"
   ]
  },
  {
   "cell_type": "code",
   "execution_count": 10,
   "id": "0e503a0e",
   "metadata": {},
   "outputs": [],
   "source": [
    "import ast\n",
    "bad_count = 0\n",
    "\n",
    "def convert_bad_features(list_of_strings) -> list[dict]:\n",
    "    \"\"\"Converts list of dicts in its string representation to a normal Python list of normal Python dicts.\"\"\"\n",
    "    if not isinstance(list_of_strings, str):\n",
    "        return []\n",
    "    else:\n",
    "        return ast.literal_eval(list_of_strings)\n",
    "    \n",
    "df['genres'] = df['genres'].apply(convert_bad_features)\n",
    "df['production_companies'] = df['production_companies'].apply(convert_bad_features)\n",
    "df['production_countries'] = df['production_countries'].apply(convert_bad_features)\n",
    "df['spoken_languages'] = df['spoken_languages'].apply(convert_bad_features)\n",
    "df['Keywords'] = df['Keywords'].apply(convert_bad_features)\n",
    "df['cast'] = df['cast'].apply(convert_bad_features)\n",
    "df['crew'] = df['crew'].apply(convert_bad_features)"
   ]
  },
  {
   "cell_type": "markdown",
   "id": "0196985e",
   "metadata": {},
   "source": [
    "Однако из этих словарей нам нужны не все значения. \n",
    "\n",
    "Из жанров нам достаточно их названия, которое мы закодируем числом, а позже применим One Hot Encoding"
   ]
  },
  {
   "cell_type": "code",
   "execution_count": 11,
   "id": "7fd2bb51",
   "metadata": {},
   "outputs": [],
   "source": [
    "df['genres'] = df['genres'].apply(lambda x: [d['name'] for d in x])"
   ]
  },
  {
   "cell_type": "code",
   "execution_count": 12,
   "id": "068f752e",
   "metadata": {},
   "outputs": [],
   "source": [
    "all_genres = sorted(list(set([g for genre_list in df['genres'] for g in genre_list])))\n",
    "GENRE_TO_INT = {g : i for i, g in enumerate(all_genres)}\n",
    "INT_TO_GENRE = {i : g for i, g in enumerate(all_genres)}"
   ]
  },
  {
   "cell_type": "code",
   "execution_count": 13,
   "id": "c4dcc58b",
   "metadata": {},
   "outputs": [],
   "source": [
    "df['genres'] = df['genres'].apply(lambda x: [GENRE_TO_INT[g] for g in x])"
   ]
  },
  {
   "cell_type": "markdown",
   "id": "fb905e42",
   "metadata": {},
   "source": [
    "Таким же образум поступим с языками"
   ]
  },
  {
   "cell_type": "code",
   "execution_count": 14,
   "id": "3ec20025",
   "metadata": {},
   "outputs": [],
   "source": [
    "all_languages = [lang.lower() for lang in df['original_language']]\n",
    "# ещё учтём, что в колонке 'spoken_languages' есть языки, которых нет в 'original_language'\n",
    "all_languages += [l['iso_639_1'].lower() for sp_lang_list in df['spoken_languages'] for l in sp_lang_list]\n",
    "all_languages = sorted(list(set(all_languages)))\n",
    "LANG_TO_INT = {g : i for i, g in enumerate(all_languages)}\n",
    "INT_TO_LANG = {i : g for i, g in enumerate(all_languages)}"
   ]
  },
  {
   "cell_type": "code",
   "execution_count": 15,
   "id": "8e5bfb2e",
   "metadata": {},
   "outputs": [],
   "source": [
    "df['original_language'] = df['original_language'].map(LANG_TO_INT)"
   ]
  },
  {
   "cell_type": "code",
   "execution_count": 16,
   "id": "ea75e4e7",
   "metadata": {},
   "outputs": [],
   "source": [
    "df['spoken_languages'] = df['spoken_languages'].apply(lambda x: [LANG_TO_INT[d['iso_639_1']] for d in x])"
   ]
  },
  {
   "cell_type": "markdown",
   "id": "9d50d694",
   "metadata": {},
   "source": [
    "Преобразуем страны производства"
   ]
  },
  {
   "cell_type": "code",
   "execution_count": 17,
   "id": "ff5f9d62",
   "metadata": {},
   "outputs": [],
   "source": [
    "all_countries = [ctry['iso_3166_1'].upper() for ctry_list in df['production_countries'] for ctry in ctry_list]\n",
    "all_countries = sorted(list(set(all_countries)))\n",
    "COUNTRY_TO_INT = {g : i for i, g in enumerate(all_countries)}\n",
    "INT_TO_COUNTRY = {i : g for i, g in enumerate(all_countries)}"
   ]
  },
  {
   "cell_type": "code",
   "execution_count": 18,
   "id": "78fd19f1",
   "metadata": {},
   "outputs": [],
   "source": [
    "df['production_countries'] = df['production_countries'].map(lambda x: [COUNTRY_TO_INT[d['iso_3166_1']] for d in x])"
   ]
  },
  {
   "cell_type": "markdown",
   "id": "e0100618",
   "metadata": {},
   "source": [
    "Даже в этом сравнительно небольшом датасете очень много разных людей в cast и crew, как и кинокомпаний. Вряд ли получится адекватно учесть все эти признаки без переобучения, поэтому уберём их совсем."
   ]
  },
  {
   "cell_type": "code",
   "execution_count": 19,
   "id": "096b983f",
   "metadata": {},
   "outputs": [],
   "source": [
    "del df['production_companies']\n",
    "del df['cast']\n",
    "del df['crew']"
   ]
  },
  {
   "cell_type": "markdown",
   "id": "d1ea5f0c",
   "metadata": {},
   "source": [
    "Из даты выпуска оставим только год, так как остальное будет пренебрежимо слабо влиять на предсказание"
   ]
  },
  {
   "cell_type": "code",
   "execution_count": 20,
   "id": "008d4b7c",
   "metadata": {},
   "outputs": [],
   "source": [
    "def release_date_to_year(date: str):\n",
    "    year = int(date[-2:])\n",
    "    if year > 20: # Dataset is from 5 years ago\n",
    "        return (1900 + year)\n",
    "    else:\n",
    "        return (2000 + year)"
   ]
  },
  {
   "cell_type": "code",
   "execution_count": 21,
   "id": "050f53da",
   "metadata": {},
   "outputs": [],
   "source": [
    "df['release_year'] = df['release_date'].apply(release_date_to_year)\n",
    "del df['release_date']"
   ]
  },
  {
   "cell_type": "markdown",
   "id": "f63e5fb4",
   "metadata": {},
   "source": [
    "Предположительно, все текстовые фичи (overview, tagline, keywords) влияют на кассовые сборы примерно одинаково. Сконкатенируем их, и сделаем фичу description.\n",
    "\n",
    "*\\* tagline — рекламный слоган, сопровождающий картину*"
   ]
  },
  {
   "cell_type": "code",
   "execution_count": 23,
   "id": "458b5eaa",
   "metadata": {},
   "outputs": [],
   "source": [
    "df['Keywords'] = df['Keywords'].apply(lambda x: ' '.join([w['name'] for w in x]))"
   ]
  },
  {
   "cell_type": "code",
   "execution_count": 24,
   "id": "2a6ca4ab",
   "metadata": {},
   "outputs": [],
   "source": [
    "df['description'] = df.agg(lambda x: f\"{x['overview']}\" if isinstance(x['overview'], str) else \"\", axis=1)\n",
    "df['description'] = df.agg(lambda x: f\"{x['description']} {x['tagline']}\" if isinstance(x['tagline'], str) else x['description'], axis=1)\n",
    "df['description'] = df.agg(lambda x: f\"{x['description']} {x['Keywords']}\" if isinstance(x['Keywords'], str) else x['description'], axis=1)\n",
    "del df['overview']\n",
    "del df['tagline']\n",
    "del df['Keywords']"
   ]
  },
  {
   "cell_type": "code",
   "execution_count": 25,
   "id": "a10fa802",
   "metadata": {},
   "outputs": [
    {
     "data": {
      "text/html": [
       "<div>\n",
       "<style scoped>\n",
       "    .dataframe tbody tr th:only-of-type {\n",
       "        vertical-align: middle;\n",
       "    }\n",
       "\n",
       "    .dataframe tbody tr th {\n",
       "        vertical-align: top;\n",
       "    }\n",
       "\n",
       "    .dataframe thead th {\n",
       "        text-align: right;\n",
       "    }\n",
       "</style>\n",
       "<table border=\"1\" class=\"dataframe\">\n",
       "  <thead>\n",
       "    <tr style=\"text-align: right;\">\n",
       "      <th></th>\n",
       "      <th>belongs_to_collection</th>\n",
       "      <th>budget</th>\n",
       "      <th>genres</th>\n",
       "      <th>original_language</th>\n",
       "      <th>popularity</th>\n",
       "      <th>production_countries</th>\n",
       "      <th>runtime</th>\n",
       "      <th>spoken_languages</th>\n",
       "      <th>revenue</th>\n",
       "      <th>release_year</th>\n",
       "      <th>description</th>\n",
       "    </tr>\n",
       "  </thead>\n",
       "  <tbody>\n",
       "    <tr>\n",
       "      <th>0</th>\n",
       "      <td>1</td>\n",
       "      <td>14000000</td>\n",
       "      <td>[3]</td>\n",
       "      <td>12</td>\n",
       "      <td>6.575393</td>\n",
       "      <td>[71]</td>\n",
       "      <td>93.0</td>\n",
       "      <td>[12]</td>\n",
       "      <td>12314651</td>\n",
       "      <td>2015</td>\n",
       "      <td>When Lou, who has become the \"father of the In...</td>\n",
       "    </tr>\n",
       "    <tr>\n",
       "      <th>1</th>\n",
       "      <td>1</td>\n",
       "      <td>40000000</td>\n",
       "      <td>[3, 6, 7, 14]</td>\n",
       "      <td>12</td>\n",
       "      <td>8.248895</td>\n",
       "      <td>[71]</td>\n",
       "      <td>113.0</td>\n",
       "      <td>[12]</td>\n",
       "      <td>95149435</td>\n",
       "      <td>2004</td>\n",
       "      <td>Mia Thermopolis is now a college graduate and ...</td>\n",
       "    </tr>\n",
       "    <tr>\n",
       "      <th>2</th>\n",
       "      <td>0</td>\n",
       "      <td>3300000</td>\n",
       "      <td>[6]</td>\n",
       "      <td>12</td>\n",
       "      <td>64.299990</td>\n",
       "      <td>[71]</td>\n",
       "      <td>105.0</td>\n",
       "      <td>[12]</td>\n",
       "      <td>13092000</td>\n",
       "      <td>2014</td>\n",
       "      <td>Under the direction of a ruthless instructor, ...</td>\n",
       "    </tr>\n",
       "    <tr>\n",
       "      <th>3</th>\n",
       "      <td>0</td>\n",
       "      <td>1200000</td>\n",
       "      <td>[17, 6]</td>\n",
       "      <td>24</td>\n",
       "      <td>3.174936</td>\n",
       "      <td>[34]</td>\n",
       "      <td>122.0</td>\n",
       "      <td>[12, 24]</td>\n",
       "      <td>16000000</td>\n",
       "      <td>2012</td>\n",
       "      <td>Vidya Bagchi (Vidya Balan) arrives in Kolkata ...</td>\n",
       "    </tr>\n",
       "    <tr>\n",
       "      <th>4</th>\n",
       "      <td>0</td>\n",
       "      <td>0</td>\n",
       "      <td>[0, 17]</td>\n",
       "      <td>34</td>\n",
       "      <td>1.148070</td>\n",
       "      <td>[41]</td>\n",
       "      <td>118.0</td>\n",
       "      <td>[34]</td>\n",
       "      <td>3923970</td>\n",
       "      <td>2009</td>\n",
       "      <td>Marine Boy is the story of a former national s...</td>\n",
       "    </tr>\n",
       "    <tr>\n",
       "      <th>...</th>\n",
       "      <td>...</td>\n",
       "      <td>...</td>\n",
       "      <td>...</td>\n",
       "      <td>...</td>\n",
       "      <td>...</td>\n",
       "      <td>...</td>\n",
       "      <td>...</td>\n",
       "      <td>...</td>\n",
       "      <td>...</td>\n",
       "      <td>...</td>\n",
       "      <td>...</td>\n",
       "    </tr>\n",
       "    <tr>\n",
       "      <th>2995</th>\n",
       "      <td>0</td>\n",
       "      <td>0</td>\n",
       "      <td>[3, 14]</td>\n",
       "      <td>12</td>\n",
       "      <td>9.853270</td>\n",
       "      <td>[71]</td>\n",
       "      <td>102.0</td>\n",
       "      <td>[12]</td>\n",
       "      <td>1596687</td>\n",
       "      <td>1994</td>\n",
       "      <td>Military men Rock Reilly and Eddie Devane are ...</td>\n",
       "    </tr>\n",
       "    <tr>\n",
       "      <th>2996</th>\n",
       "      <td>0</td>\n",
       "      <td>0</td>\n",
       "      <td>[6, 12]</td>\n",
       "      <td>64</td>\n",
       "      <td>3.727996</td>\n",
       "      <td>[19, 64]</td>\n",
       "      <td>102.0</td>\n",
       "      <td>[64]</td>\n",
       "      <td>180590</td>\n",
       "      <td>2013</td>\n",
       "      <td>Three girls in 1980s Stockholm decide to form ...</td>\n",
       "    </tr>\n",
       "    <tr>\n",
       "      <th>2997</th>\n",
       "      <td>0</td>\n",
       "      <td>65000000</td>\n",
       "      <td>[4, 0, 13, 17]</td>\n",
       "      <td>12</td>\n",
       "      <td>14.482345</td>\n",
       "      <td>[71]</td>\n",
       "      <td>120.0</td>\n",
       "      <td>[12]</td>\n",
       "      <td>89456761</td>\n",
       "      <td>1996</td>\n",
       "      <td>Samantha Caine, suburban homemaker, is the ide...</td>\n",
       "    </tr>\n",
       "    <tr>\n",
       "      <th>2998</th>\n",
       "      <td>0</td>\n",
       "      <td>42000000</td>\n",
       "      <td>[3, 14]</td>\n",
       "      <td>12</td>\n",
       "      <td>15.725542</td>\n",
       "      <td>[71]</td>\n",
       "      <td>90.0</td>\n",
       "      <td>[12]</td>\n",
       "      <td>171963386</td>\n",
       "      <td>2004</td>\n",
       "      <td>Reuben Feffer is a guy who's spent his entire ...</td>\n",
       "    </tr>\n",
       "    <tr>\n",
       "      <th>2999</th>\n",
       "      <td>0</td>\n",
       "      <td>35000000</td>\n",
       "      <td>[17, 0, 13]</td>\n",
       "      <td>12</td>\n",
       "      <td>10.512109</td>\n",
       "      <td>[71]</td>\n",
       "      <td>106.0</td>\n",
       "      <td>[12]</td>\n",
       "      <td>82087155</td>\n",
       "      <td>2011</td>\n",
       "      <td>A young man sets out to uncover the truth abou...</td>\n",
       "    </tr>\n",
       "  </tbody>\n",
       "</table>\n",
       "<p>3000 rows × 11 columns</p>\n",
       "</div>"
      ],
      "text/plain": [
       "      belongs_to_collection    budget          genres  original_language  \\\n",
       "0                         1  14000000             [3]                 12   \n",
       "1                         1  40000000   [3, 6, 7, 14]                 12   \n",
       "2                         0   3300000             [6]                 12   \n",
       "3                         0   1200000         [17, 6]                 24   \n",
       "4                         0         0         [0, 17]                 34   \n",
       "...                     ...       ...             ...                ...   \n",
       "2995                      0         0         [3, 14]                 12   \n",
       "2996                      0         0         [6, 12]                 64   \n",
       "2997                      0  65000000  [4, 0, 13, 17]                 12   \n",
       "2998                      0  42000000         [3, 14]                 12   \n",
       "2999                      0  35000000     [17, 0, 13]                 12   \n",
       "\n",
       "      popularity production_countries  runtime spoken_languages    revenue  \\\n",
       "0       6.575393                 [71]     93.0             [12]   12314651   \n",
       "1       8.248895                 [71]    113.0             [12]   95149435   \n",
       "2      64.299990                 [71]    105.0             [12]   13092000   \n",
       "3       3.174936                 [34]    122.0         [12, 24]   16000000   \n",
       "4       1.148070                 [41]    118.0             [34]    3923970   \n",
       "...          ...                  ...      ...              ...        ...   \n",
       "2995    9.853270                 [71]    102.0             [12]    1596687   \n",
       "2996    3.727996             [19, 64]    102.0             [64]     180590   \n",
       "2997   14.482345                 [71]    120.0             [12]   89456761   \n",
       "2998   15.725542                 [71]     90.0             [12]  171963386   \n",
       "2999   10.512109                 [71]    106.0             [12]   82087155   \n",
       "\n",
       "      release_year                                        description  \n",
       "0             2015  When Lou, who has become the \"father of the In...  \n",
       "1             2004  Mia Thermopolis is now a college graduate and ...  \n",
       "2             2014  Under the direction of a ruthless instructor, ...  \n",
       "3             2012  Vidya Bagchi (Vidya Balan) arrives in Kolkata ...  \n",
       "4             2009  Marine Boy is the story of a former national s...  \n",
       "...            ...                                                ...  \n",
       "2995          1994  Military men Rock Reilly and Eddie Devane are ...  \n",
       "2996          2013  Three girls in 1980s Stockholm decide to form ...  \n",
       "2997          1996  Samantha Caine, suburban homemaker, is the ide...  \n",
       "2998          2004  Reuben Feffer is a guy who's spent his entire ...  \n",
       "2999          2011  A young man sets out to uncover the truth abou...  \n",
       "\n",
       "[3000 rows x 11 columns]"
      ]
     },
     "execution_count": 25,
     "metadata": {},
     "output_type": "execute_result"
    }
   ],
   "source": [
    "df"
   ]
  },
  {
   "cell_type": "markdown",
   "id": "c35177d5",
   "metadata": {},
   "source": [
    "Готово (на самом деле ещё нужен One Hot Encoding).\n",
    "\n",
    "Сохраним это, чтобы не потерять"
   ]
  },
  {
   "cell_type": "code",
   "execution_count": 29,
   "id": "1395fce9",
   "metadata": {},
   "outputs": [],
   "source": [
    "df.to_csv('data/preprocessed_train.csv')"
   ]
  },
  {
   "cell_type": "markdown",
   "id": "a0d4533b",
   "metadata": {},
   "source": [
    "Колонка revenue является нашим таргетом"
   ]
  },
  {
   "cell_type": "code",
   "execution_count": 26,
   "id": "51c3079f",
   "metadata": {},
   "outputs": [],
   "source": [
    "data = df.drop(\"revenue\", axis= 1)\n",
    "target = df[\"revenue\"]"
   ]
  },
  {
   "cell_type": "code",
   "execution_count": 27,
   "id": "a7cbeef6",
   "metadata": {},
   "outputs": [],
   "source": [
    "# all_genres = set([g for genre_list in df['genres'] for g in genre_list])\n",
    "# all_ = set([g for genre_list in df['genres'] for g in genre_list])"
   ]
  },
  {
   "cell_type": "code",
   "execution_count": 28,
   "id": "4a520000",
   "metadata": {},
   "outputs": [],
   "source": [
    "# len(all_genres)"
   ]
  }
 ],
 "metadata": {
  "kernelspec": {
   "display_name": "Python 3 (ipykernel)",
   "language": "python",
   "name": "python3"
  },
  "language_info": {
   "codemirror_mode": {
    "name": "ipython",
    "version": 3
   },
   "file_extension": ".py",
   "mimetype": "text/x-python",
   "name": "python",
   "nbconvert_exporter": "python",
   "pygments_lexer": "ipython3",
   "version": "3.10.12"
  }
 },
 "nbformat": 4,
 "nbformat_minor": 5
}
