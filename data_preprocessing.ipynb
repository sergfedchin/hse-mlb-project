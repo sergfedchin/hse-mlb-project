{
 "cells": [
  {
   "cell_type": "markdown",
   "id": "c53a9559",
   "metadata": {},
   "source": [
    "#                           Предсказание кассовых сборов фильмов"
   ]
  },
  {
   "cell_type": "markdown",
   "id": "af94652a",
   "metadata": {},
   "source": [
    "Для предсказания будем использовать датасет с Каггла: TMDB Box Office Prediction - https://www.kaggle.com/c/tmdb-box-office-prediction"
   ]
  },
  {
   "cell_type": "code",
   "execution_count": 1,
   "id": "df6e1407",
   "metadata": {},
   "outputs": [],
   "source": [
    "%config IPCompleter.greedy=True"
   ]
  },
  {
   "cell_type": "code",
   "execution_count": 2,
   "id": "c187c957",
   "metadata": {},
   "outputs": [],
   "source": [
    "# !pip install -r requirements.txt"
   ]
  },
  {
   "cell_type": "markdown",
   "id": "7bea6272",
   "metadata": {},
   "source": [
    "Заимпортим все необходимые библиотеки"
   ]
  },
  {
   "cell_type": "code",
   "execution_count": 3,
   "id": "9e6fd23e",
   "metadata": {},
   "outputs": [],
   "source": [
    "import numpy as np\n",
    "import pandas as pd\n",
    "import matplotlib.pyplot as plt\n",
    "import re"
   ]
  },
  {
   "cell_type": "code",
   "execution_count": 4,
   "id": "bfd55864",
   "metadata": {},
   "outputs": [],
   "source": [
    "import warnings\n",
    "\n",
    "warnings.filterwarnings(\"ignore\")"
   ]
  },
  {
   "cell_type": "code",
   "execution_count": 5,
   "id": "b0ab8a09",
   "metadata": {},
   "outputs": [],
   "source": [
    "df = pd.read_csv(\"data/train.csv\")"
   ]
  },
  {
   "cell_type": "code",
   "execution_count": 6,
   "id": "a8602788",
   "metadata": {},
   "outputs": [
    {
     "data": {
      "text/html": [
       "<div>\n",
       "<style scoped>\n",
       "    .dataframe tbody tr th:only-of-type {\n",
       "        vertical-align: middle;\n",
       "    }\n",
       "\n",
       "    .dataframe tbody tr th {\n",
       "        vertical-align: top;\n",
       "    }\n",
       "\n",
       "    .dataframe thead th {\n",
       "        text-align: right;\n",
       "    }\n",
       "</style>\n",
       "<table border=\"1\" class=\"dataframe\">\n",
       "  <thead>\n",
       "    <tr style=\"text-align: right;\">\n",
       "      <th></th>\n",
       "      <th>id</th>\n",
       "      <th>belongs_to_collection</th>\n",
       "      <th>budget</th>\n",
       "      <th>genres</th>\n",
       "      <th>homepage</th>\n",
       "      <th>imdb_id</th>\n",
       "      <th>original_language</th>\n",
       "      <th>original_title</th>\n",
       "      <th>overview</th>\n",
       "      <th>popularity</th>\n",
       "      <th>...</th>\n",
       "      <th>release_date</th>\n",
       "      <th>runtime</th>\n",
       "      <th>spoken_languages</th>\n",
       "      <th>status</th>\n",
       "      <th>tagline</th>\n",
       "      <th>title</th>\n",
       "      <th>Keywords</th>\n",
       "      <th>cast</th>\n",
       "      <th>crew</th>\n",
       "      <th>revenue</th>\n",
       "    </tr>\n",
       "  </thead>\n",
       "  <tbody>\n",
       "    <tr>\n",
       "      <th>0</th>\n",
       "      <td>1</td>\n",
       "      <td>[{'id': 313576, 'name': 'Hot Tub Time Machine ...</td>\n",
       "      <td>14000000</td>\n",
       "      <td>[{'id': 35, 'name': 'Comedy'}]</td>\n",
       "      <td>NaN</td>\n",
       "      <td>tt2637294</td>\n",
       "      <td>en</td>\n",
       "      <td>Hot Tub Time Machine 2</td>\n",
       "      <td>When Lou, who has become the \"father of the In...</td>\n",
       "      <td>6.575393</td>\n",
       "      <td>...</td>\n",
       "      <td>2/20/15</td>\n",
       "      <td>93.0</td>\n",
       "      <td>[{'iso_639_1': 'en', 'name': 'English'}]</td>\n",
       "      <td>Released</td>\n",
       "      <td>The Laws of Space and Time are About to be Vio...</td>\n",
       "      <td>Hot Tub Time Machine 2</td>\n",
       "      <td>[{'id': 4379, 'name': 'time travel'}, {'id': 9...</td>\n",
       "      <td>[{'cast_id': 4, 'character': 'Lou', 'credit_id...</td>\n",
       "      <td>[{'credit_id': '59ac067c92514107af02c8c8', 'de...</td>\n",
       "      <td>12314651</td>\n",
       "    </tr>\n",
       "    <tr>\n",
       "      <th>1</th>\n",
       "      <td>2</td>\n",
       "      <td>[{'id': 107674, 'name': 'The Princess Diaries ...</td>\n",
       "      <td>40000000</td>\n",
       "      <td>[{'id': 35, 'name': 'Comedy'}, {'id': 18, 'nam...</td>\n",
       "      <td>NaN</td>\n",
       "      <td>tt0368933</td>\n",
       "      <td>en</td>\n",
       "      <td>The Princess Diaries 2: Royal Engagement</td>\n",
       "      <td>Mia Thermopolis is now a college graduate and ...</td>\n",
       "      <td>8.248895</td>\n",
       "      <td>...</td>\n",
       "      <td>8/6/04</td>\n",
       "      <td>113.0</td>\n",
       "      <td>[{'iso_639_1': 'en', 'name': 'English'}]</td>\n",
       "      <td>Released</td>\n",
       "      <td>It can take a lifetime to find true love; she'...</td>\n",
       "      <td>The Princess Diaries 2: Royal Engagement</td>\n",
       "      <td>[{'id': 2505, 'name': 'coronation'}, {'id': 42...</td>\n",
       "      <td>[{'cast_id': 1, 'character': 'Mia Thermopolis'...</td>\n",
       "      <td>[{'credit_id': '52fe43fe9251416c7502563d', 'de...</td>\n",
       "      <td>95149435</td>\n",
       "    </tr>\n",
       "    <tr>\n",
       "      <th>2</th>\n",
       "      <td>3</td>\n",
       "      <td>NaN</td>\n",
       "      <td>3300000</td>\n",
       "      <td>[{'id': 18, 'name': 'Drama'}]</td>\n",
       "      <td>http://sonyclassics.com/whiplash/</td>\n",
       "      <td>tt2582802</td>\n",
       "      <td>en</td>\n",
       "      <td>Whiplash</td>\n",
       "      <td>Under the direction of a ruthless instructor, ...</td>\n",
       "      <td>64.299990</td>\n",
       "      <td>...</td>\n",
       "      <td>10/10/14</td>\n",
       "      <td>105.0</td>\n",
       "      <td>[{'iso_639_1': 'en', 'name': 'English'}]</td>\n",
       "      <td>Released</td>\n",
       "      <td>The road to greatness can take you to the edge.</td>\n",
       "      <td>Whiplash</td>\n",
       "      <td>[{'id': 1416, 'name': 'jazz'}, {'id': 1523, 'n...</td>\n",
       "      <td>[{'cast_id': 5, 'character': 'Andrew Neimann',...</td>\n",
       "      <td>[{'credit_id': '54d5356ec3a3683ba0000039', 'de...</td>\n",
       "      <td>13092000</td>\n",
       "    </tr>\n",
       "    <tr>\n",
       "      <th>3</th>\n",
       "      <td>4</td>\n",
       "      <td>NaN</td>\n",
       "      <td>1200000</td>\n",
       "      <td>[{'id': 53, 'name': 'Thriller'}, {'id': 18, 'n...</td>\n",
       "      <td>http://kahaanithefilm.com/</td>\n",
       "      <td>tt1821480</td>\n",
       "      <td>hi</td>\n",
       "      <td>Kahaani</td>\n",
       "      <td>Vidya Bagchi (Vidya Balan) arrives in Kolkata ...</td>\n",
       "      <td>3.174936</td>\n",
       "      <td>...</td>\n",
       "      <td>3/9/12</td>\n",
       "      <td>122.0</td>\n",
       "      <td>[{'iso_639_1': 'en', 'name': 'English'}, {'iso...</td>\n",
       "      <td>Released</td>\n",
       "      <td>NaN</td>\n",
       "      <td>Kahaani</td>\n",
       "      <td>[{'id': 10092, 'name': 'mystery'}, {'id': 1054...</td>\n",
       "      <td>[{'cast_id': 1, 'character': 'Vidya Bagchi', '...</td>\n",
       "      <td>[{'credit_id': '52fe48779251416c9108d6eb', 'de...</td>\n",
       "      <td>16000000</td>\n",
       "    </tr>\n",
       "    <tr>\n",
       "      <th>4</th>\n",
       "      <td>5</td>\n",
       "      <td>NaN</td>\n",
       "      <td>0</td>\n",
       "      <td>[{'id': 28, 'name': 'Action'}, {'id': 53, 'nam...</td>\n",
       "      <td>NaN</td>\n",
       "      <td>tt1380152</td>\n",
       "      <td>ko</td>\n",
       "      <td>마린보이</td>\n",
       "      <td>Marine Boy is the story of a former national s...</td>\n",
       "      <td>1.148070</td>\n",
       "      <td>...</td>\n",
       "      <td>2/5/09</td>\n",
       "      <td>118.0</td>\n",
       "      <td>[{'iso_639_1': 'ko', 'name': '한국어/조선말'}]</td>\n",
       "      <td>Released</td>\n",
       "      <td>NaN</td>\n",
       "      <td>Marine Boy</td>\n",
       "      <td>NaN</td>\n",
       "      <td>[{'cast_id': 3, 'character': 'Chun-soo', 'cred...</td>\n",
       "      <td>[{'credit_id': '52fe464b9251416c75073b43', 'de...</td>\n",
       "      <td>3923970</td>\n",
       "    </tr>\n",
       "    <tr>\n",
       "      <th>...</th>\n",
       "      <td>...</td>\n",
       "      <td>...</td>\n",
       "      <td>...</td>\n",
       "      <td>...</td>\n",
       "      <td>...</td>\n",
       "      <td>...</td>\n",
       "      <td>...</td>\n",
       "      <td>...</td>\n",
       "      <td>...</td>\n",
       "      <td>...</td>\n",
       "      <td>...</td>\n",
       "      <td>...</td>\n",
       "      <td>...</td>\n",
       "      <td>...</td>\n",
       "      <td>...</td>\n",
       "      <td>...</td>\n",
       "      <td>...</td>\n",
       "      <td>...</td>\n",
       "      <td>...</td>\n",
       "      <td>...</td>\n",
       "      <td>...</td>\n",
       "    </tr>\n",
       "    <tr>\n",
       "      <th>2995</th>\n",
       "      <td>2996</td>\n",
       "      <td>NaN</td>\n",
       "      <td>0</td>\n",
       "      <td>[{'id': 35, 'name': 'Comedy'}, {'id': 10749, '...</td>\n",
       "      <td>NaN</td>\n",
       "      <td>tt0109403</td>\n",
       "      <td>en</td>\n",
       "      <td>Chasers</td>\n",
       "      <td>Military men Rock Reilly and Eddie Devane are ...</td>\n",
       "      <td>9.853270</td>\n",
       "      <td>...</td>\n",
       "      <td>4/22/94</td>\n",
       "      <td>102.0</td>\n",
       "      <td>[{'iso_639_1': 'en', 'name': 'English'}]</td>\n",
       "      <td>Released</td>\n",
       "      <td>It was supposed to be a routine prisoner trans...</td>\n",
       "      <td>Chasers</td>\n",
       "      <td>[{'id': 378, 'name': 'prison'}, {'id': 572, 'n...</td>\n",
       "      <td>[{'cast_id': 2, 'character': 'Rock Reilly', 'c...</td>\n",
       "      <td>[{'credit_id': '52fe4494c3a368484e02ac7d', 'de...</td>\n",
       "      <td>1596687</td>\n",
       "    </tr>\n",
       "    <tr>\n",
       "      <th>2996</th>\n",
       "      <td>2997</td>\n",
       "      <td>NaN</td>\n",
       "      <td>0</td>\n",
       "      <td>[{'id': 18, 'name': 'Drama'}, {'id': 10402, 'n...</td>\n",
       "      <td>NaN</td>\n",
       "      <td>tt2364975</td>\n",
       "      <td>sv</td>\n",
       "      <td>Vi är bäst!</td>\n",
       "      <td>Three girls in 1980s Stockholm decide to form ...</td>\n",
       "      <td>3.727996</td>\n",
       "      <td>...</td>\n",
       "      <td>3/28/13</td>\n",
       "      <td>102.0</td>\n",
       "      <td>[{'iso_639_1': 'sv', 'name': 'svenska'}]</td>\n",
       "      <td>Released</td>\n",
       "      <td>NaN</td>\n",
       "      <td>We Are the Best!</td>\n",
       "      <td>[{'id': 1192, 'name': 'sweden'}, {'id': 4470, ...</td>\n",
       "      <td>[{'cast_id': 5, 'character': 'Bobo', 'credit_i...</td>\n",
       "      <td>[{'credit_id': '5716b72ac3a3686678012c84', 'de...</td>\n",
       "      <td>180590</td>\n",
       "    </tr>\n",
       "    <tr>\n",
       "      <th>2997</th>\n",
       "      <td>2998</td>\n",
       "      <td>NaN</td>\n",
       "      <td>65000000</td>\n",
       "      <td>[{'id': 80, 'name': 'Crime'}, {'id': 28, 'name...</td>\n",
       "      <td>NaN</td>\n",
       "      <td>tt0116908</td>\n",
       "      <td>en</td>\n",
       "      <td>The Long Kiss Goodnight</td>\n",
       "      <td>Samantha Caine, suburban homemaker, is the ide...</td>\n",
       "      <td>14.482345</td>\n",
       "      <td>...</td>\n",
       "      <td>10/11/96</td>\n",
       "      <td>120.0</td>\n",
       "      <td>[{'iso_639_1': 'en', 'name': 'English'}]</td>\n",
       "      <td>Released</td>\n",
       "      <td>What's forgotten is not always gone.</td>\n",
       "      <td>The Long Kiss Goodnight</td>\n",
       "      <td>[{'id': 441, 'name': 'assassination'}, {'id': ...</td>\n",
       "      <td>[{'cast_id': 10, 'character': 'Samantha Caine ...</td>\n",
       "      <td>[{'credit_id': '52fe443a9251416c7502d579', 'de...</td>\n",
       "      <td>89456761</td>\n",
       "    </tr>\n",
       "    <tr>\n",
       "      <th>2998</th>\n",
       "      <td>2999</td>\n",
       "      <td>NaN</td>\n",
       "      <td>42000000</td>\n",
       "      <td>[{'id': 35, 'name': 'Comedy'}, {'id': 10749, '...</td>\n",
       "      <td>http://www.alongcamepolly.com/</td>\n",
       "      <td>tt0343135</td>\n",
       "      <td>en</td>\n",
       "      <td>Along Came Polly</td>\n",
       "      <td>Reuben Feffer is a guy who's spent his entire ...</td>\n",
       "      <td>15.725542</td>\n",
       "      <td>...</td>\n",
       "      <td>1/16/04</td>\n",
       "      <td>90.0</td>\n",
       "      <td>[{'iso_639_1': 'en', 'name': 'English'}]</td>\n",
       "      <td>Released</td>\n",
       "      <td>For the most cautious man on Earth, life is ab...</td>\n",
       "      <td>Along Came Polly</td>\n",
       "      <td>[{'id': 966, 'name': 'beach'}, {'id': 2676, 'n...</td>\n",
       "      <td>[{'cast_id': 8, 'character': 'Reuben Feffer', ...</td>\n",
       "      <td>[{'credit_id': '556f817b9251410866000a63', 'de...</td>\n",
       "      <td>171963386</td>\n",
       "    </tr>\n",
       "    <tr>\n",
       "      <th>2999</th>\n",
       "      <td>3000</td>\n",
       "      <td>NaN</td>\n",
       "      <td>35000000</td>\n",
       "      <td>[{'id': 53, 'name': 'Thriller'}, {'id': 28, 'n...</td>\n",
       "      <td>http://www.abductionthefilm.com/</td>\n",
       "      <td>tt1600195</td>\n",
       "      <td>en</td>\n",
       "      <td>Abduction</td>\n",
       "      <td>A young man sets out to uncover the truth abou...</td>\n",
       "      <td>10.512109</td>\n",
       "      <td>...</td>\n",
       "      <td>9/22/11</td>\n",
       "      <td>106.0</td>\n",
       "      <td>[{'iso_639_1': 'en', 'name': 'English'}]</td>\n",
       "      <td>Released</td>\n",
       "      <td>They stole his life. He's taking it back.</td>\n",
       "      <td>Abduction</td>\n",
       "      <td>[{'id': 591, 'name': 'cia'}, {'id': 822, 'name...</td>\n",
       "      <td>[{'cast_id': 2, 'character': 'Nathan Harper', ...</td>\n",
       "      <td>[{'credit_id': '5391990d0e0a260fb5001629', 'de...</td>\n",
       "      <td>82087155</td>\n",
       "    </tr>\n",
       "  </tbody>\n",
       "</table>\n",
       "<p>3000 rows × 23 columns</p>\n",
       "</div>"
      ],
      "text/plain": [
       "        id                              belongs_to_collection    budget  \\\n",
       "0        1  [{'id': 313576, 'name': 'Hot Tub Time Machine ...  14000000   \n",
       "1        2  [{'id': 107674, 'name': 'The Princess Diaries ...  40000000   \n",
       "2        3                                                NaN   3300000   \n",
       "3        4                                                NaN   1200000   \n",
       "4        5                                                NaN         0   \n",
       "...    ...                                                ...       ...   \n",
       "2995  2996                                                NaN         0   \n",
       "2996  2997                                                NaN         0   \n",
       "2997  2998                                                NaN  65000000   \n",
       "2998  2999                                                NaN  42000000   \n",
       "2999  3000                                                NaN  35000000   \n",
       "\n",
       "                                                 genres  \\\n",
       "0                        [{'id': 35, 'name': 'Comedy'}]   \n",
       "1     [{'id': 35, 'name': 'Comedy'}, {'id': 18, 'nam...   \n",
       "2                         [{'id': 18, 'name': 'Drama'}]   \n",
       "3     [{'id': 53, 'name': 'Thriller'}, {'id': 18, 'n...   \n",
       "4     [{'id': 28, 'name': 'Action'}, {'id': 53, 'nam...   \n",
       "...                                                 ...   \n",
       "2995  [{'id': 35, 'name': 'Comedy'}, {'id': 10749, '...   \n",
       "2996  [{'id': 18, 'name': 'Drama'}, {'id': 10402, 'n...   \n",
       "2997  [{'id': 80, 'name': 'Crime'}, {'id': 28, 'name...   \n",
       "2998  [{'id': 35, 'name': 'Comedy'}, {'id': 10749, '...   \n",
       "2999  [{'id': 53, 'name': 'Thriller'}, {'id': 28, 'n...   \n",
       "\n",
       "                               homepage    imdb_id original_language  \\\n",
       "0                                   NaN  tt2637294                en   \n",
       "1                                   NaN  tt0368933                en   \n",
       "2     http://sonyclassics.com/whiplash/  tt2582802                en   \n",
       "3            http://kahaanithefilm.com/  tt1821480                hi   \n",
       "4                                   NaN  tt1380152                ko   \n",
       "...                                 ...        ...               ...   \n",
       "2995                                NaN  tt0109403                en   \n",
       "2996                                NaN  tt2364975                sv   \n",
       "2997                                NaN  tt0116908                en   \n",
       "2998     http://www.alongcamepolly.com/  tt0343135                en   \n",
       "2999   http://www.abductionthefilm.com/  tt1600195                en   \n",
       "\n",
       "                                original_title  \\\n",
       "0                       Hot Tub Time Machine 2   \n",
       "1     The Princess Diaries 2: Royal Engagement   \n",
       "2                                     Whiplash   \n",
       "3                                      Kahaani   \n",
       "4                                         마린보이   \n",
       "...                                        ...   \n",
       "2995                                   Chasers   \n",
       "2996                               Vi är bäst!   \n",
       "2997                   The Long Kiss Goodnight   \n",
       "2998                          Along Came Polly   \n",
       "2999                                 Abduction   \n",
       "\n",
       "                                               overview  popularity  ...  \\\n",
       "0     When Lou, who has become the \"father of the In...    6.575393  ...   \n",
       "1     Mia Thermopolis is now a college graduate and ...    8.248895  ...   \n",
       "2     Under the direction of a ruthless instructor, ...   64.299990  ...   \n",
       "3     Vidya Bagchi (Vidya Balan) arrives in Kolkata ...    3.174936  ...   \n",
       "4     Marine Boy is the story of a former national s...    1.148070  ...   \n",
       "...                                                 ...         ...  ...   \n",
       "2995  Military men Rock Reilly and Eddie Devane are ...    9.853270  ...   \n",
       "2996  Three girls in 1980s Stockholm decide to form ...    3.727996  ...   \n",
       "2997  Samantha Caine, suburban homemaker, is the ide...   14.482345  ...   \n",
       "2998  Reuben Feffer is a guy who's spent his entire ...   15.725542  ...   \n",
       "2999  A young man sets out to uncover the truth abou...   10.512109  ...   \n",
       "\n",
       "     release_date runtime                                   spoken_languages  \\\n",
       "0         2/20/15    93.0           [{'iso_639_1': 'en', 'name': 'English'}]   \n",
       "1          8/6/04   113.0           [{'iso_639_1': 'en', 'name': 'English'}]   \n",
       "2        10/10/14   105.0           [{'iso_639_1': 'en', 'name': 'English'}]   \n",
       "3          3/9/12   122.0  [{'iso_639_1': 'en', 'name': 'English'}, {'iso...   \n",
       "4          2/5/09   118.0           [{'iso_639_1': 'ko', 'name': '한국어/조선말'}]   \n",
       "...           ...     ...                                                ...   \n",
       "2995      4/22/94   102.0           [{'iso_639_1': 'en', 'name': 'English'}]   \n",
       "2996      3/28/13   102.0           [{'iso_639_1': 'sv', 'name': 'svenska'}]   \n",
       "2997     10/11/96   120.0           [{'iso_639_1': 'en', 'name': 'English'}]   \n",
       "2998      1/16/04    90.0           [{'iso_639_1': 'en', 'name': 'English'}]   \n",
       "2999      9/22/11   106.0           [{'iso_639_1': 'en', 'name': 'English'}]   \n",
       "\n",
       "        status                                            tagline  \\\n",
       "0     Released  The Laws of Space and Time are About to be Vio...   \n",
       "1     Released  It can take a lifetime to find true love; she'...   \n",
       "2     Released    The road to greatness can take you to the edge.   \n",
       "3     Released                                                NaN   \n",
       "4     Released                                                NaN   \n",
       "...        ...                                                ...   \n",
       "2995  Released  It was supposed to be a routine prisoner trans...   \n",
       "2996  Released                                                NaN   \n",
       "2997  Released               What's forgotten is not always gone.   \n",
       "2998  Released  For the most cautious man on Earth, life is ab...   \n",
       "2999  Released          They stole his life. He's taking it back.   \n",
       "\n",
       "                                         title  \\\n",
       "0                       Hot Tub Time Machine 2   \n",
       "1     The Princess Diaries 2: Royal Engagement   \n",
       "2                                     Whiplash   \n",
       "3                                      Kahaani   \n",
       "4                                   Marine Boy   \n",
       "...                                        ...   \n",
       "2995                                   Chasers   \n",
       "2996                          We Are the Best!   \n",
       "2997                   The Long Kiss Goodnight   \n",
       "2998                          Along Came Polly   \n",
       "2999                                 Abduction   \n",
       "\n",
       "                                               Keywords  \\\n",
       "0     [{'id': 4379, 'name': 'time travel'}, {'id': 9...   \n",
       "1     [{'id': 2505, 'name': 'coronation'}, {'id': 42...   \n",
       "2     [{'id': 1416, 'name': 'jazz'}, {'id': 1523, 'n...   \n",
       "3     [{'id': 10092, 'name': 'mystery'}, {'id': 1054...   \n",
       "4                                                   NaN   \n",
       "...                                                 ...   \n",
       "2995  [{'id': 378, 'name': 'prison'}, {'id': 572, 'n...   \n",
       "2996  [{'id': 1192, 'name': 'sweden'}, {'id': 4470, ...   \n",
       "2997  [{'id': 441, 'name': 'assassination'}, {'id': ...   \n",
       "2998  [{'id': 966, 'name': 'beach'}, {'id': 2676, 'n...   \n",
       "2999  [{'id': 591, 'name': 'cia'}, {'id': 822, 'name...   \n",
       "\n",
       "                                                   cast  \\\n",
       "0     [{'cast_id': 4, 'character': 'Lou', 'credit_id...   \n",
       "1     [{'cast_id': 1, 'character': 'Mia Thermopolis'...   \n",
       "2     [{'cast_id': 5, 'character': 'Andrew Neimann',...   \n",
       "3     [{'cast_id': 1, 'character': 'Vidya Bagchi', '...   \n",
       "4     [{'cast_id': 3, 'character': 'Chun-soo', 'cred...   \n",
       "...                                                 ...   \n",
       "2995  [{'cast_id': 2, 'character': 'Rock Reilly', 'c...   \n",
       "2996  [{'cast_id': 5, 'character': 'Bobo', 'credit_i...   \n",
       "2997  [{'cast_id': 10, 'character': 'Samantha Caine ...   \n",
       "2998  [{'cast_id': 8, 'character': 'Reuben Feffer', ...   \n",
       "2999  [{'cast_id': 2, 'character': 'Nathan Harper', ...   \n",
       "\n",
       "                                                   crew    revenue  \n",
       "0     [{'credit_id': '59ac067c92514107af02c8c8', 'de...   12314651  \n",
       "1     [{'credit_id': '52fe43fe9251416c7502563d', 'de...   95149435  \n",
       "2     [{'credit_id': '54d5356ec3a3683ba0000039', 'de...   13092000  \n",
       "3     [{'credit_id': '52fe48779251416c9108d6eb', 'de...   16000000  \n",
       "4     [{'credit_id': '52fe464b9251416c75073b43', 'de...    3923970  \n",
       "...                                                 ...        ...  \n",
       "2995  [{'credit_id': '52fe4494c3a368484e02ac7d', 'de...    1596687  \n",
       "2996  [{'credit_id': '5716b72ac3a3686678012c84', 'de...     180590  \n",
       "2997  [{'credit_id': '52fe443a9251416c7502d579', 'de...   89456761  \n",
       "2998  [{'credit_id': '556f817b9251410866000a63', 'de...  171963386  \n",
       "2999  [{'credit_id': '5391990d0e0a260fb5001629', 'de...   82087155  \n",
       "\n",
       "[3000 rows x 23 columns]"
      ]
     },
     "execution_count": 6,
     "metadata": {},
     "output_type": "execute_result"
    }
   ],
   "source": [
    "df"
   ]
  },
  {
   "cell_type": "markdown",
   "id": "9e8c92a1",
   "metadata": {},
   "source": [
    "## Часть 1: предобработка данных и подготовка к обучению"
   ]
  },
  {
   "cell_type": "markdown",
   "id": "a33f65ea",
   "metadata": {},
   "source": [
    "Удалим ненужные колонки: лишние id нам не нужны, как и ссылки"
   ]
  },
  {
   "cell_type": "code",
   "execution_count": 7,
   "id": "bef9efb8",
   "metadata": {},
   "outputs": [],
   "source": [
    "del df['id']\n",
    "del df['homepage']\n",
    "del df['imdb_id']\n",
    "del df['original_title']\n",
    "del df['poster_path']\n",
    "del df['status']"
   ]
  },
  {
   "cell_type": "markdown",
   "id": "9bce04bc",
   "metadata": {},
   "source": [
    "Для нас не будет важно, в какой коллекции находится фильм, будет достаточно того, что он находится в *какой-то*"
   ]
  },
  {
   "cell_type": "code",
   "execution_count": 8,
   "id": "98dda30c",
   "metadata": {},
   "outputs": [],
   "source": [
    "df[\"belongs_to_collection\"].replace([np.nan, -np.inf], 0, inplace=True)\n",
    "df[\"belongs_to_collection\"] = df[\"belongs_to_collection\"].apply(lambda x: int(isinstance(x, str)))"
   ]
  },
  {
   "cell_type": "markdown",
   "id": "0d876e64",
   "metadata": {},
   "source": [
    "Заметим, что у нас много признаков находятся в строковом представлении словаря. Превратим их в нормальные словари"
   ]
  },
  {
   "cell_type": "code",
   "execution_count": 9,
   "id": "0e503a0e",
   "metadata": {},
   "outputs": [],
   "source": [
    "import ast\n",
    "\n",
    "def convert_bad_features(list_of_strings) -> list[dict]:\n",
    "    \"\"\"Converts list of dicts in its string representation to a normal Python list of normal Python dicts.\"\"\"\n",
    "    if not isinstance(list_of_strings, str):\n",
    "        return []\n",
    "    else:\n",
    "        return ast.literal_eval(list_of_strings)\n",
    "    \n",
    "df['genres'] = df['genres'].apply(convert_bad_features)\n",
    "df['production_companies'] = df['production_companies'].apply(convert_bad_features)\n",
    "df['production_countries'] = df['production_countries'].apply(convert_bad_features)\n",
    "df['spoken_languages'] = df['spoken_languages'].apply(convert_bad_features)\n",
    "df['Keywords'] = df['Keywords'].apply(convert_bad_features)\n",
    "df['cast'] = df['cast'].apply(convert_bad_features)\n",
    "df['crew'] = df['crew'].apply(convert_bad_features)"
   ]
  },
  {
   "cell_type": "markdown",
   "id": "0196985e",
   "metadata": {},
   "source": [
    "Однако из этих словарей нам нужны не все значения. \n",
    "\n",
    "Из жанров нам достаточно их названия, которое мы закодируем числом, а позже применим One Hot Encoding"
   ]
  },
  {
   "cell_type": "code",
   "execution_count": 10,
   "id": "7fd2bb51",
   "metadata": {},
   "outputs": [],
   "source": [
    "df['genres'] = df['genres'].apply(lambda x: [d['name'] for d in x])"
   ]
  },
  {
   "cell_type": "code",
   "execution_count": 11,
   "id": "068f752e",
   "metadata": {},
   "outputs": [],
   "source": [
    "all_genres = sorted(list(set([g for genre_list in df['genres'] for g in genre_list])))"
   ]
  },
  {
   "cell_type": "markdown",
   "id": "fb905e42",
   "metadata": {},
   "source": [
    "Таким же образум поступим с языками"
   ]
  },
  {
   "cell_type": "code",
   "execution_count": 12,
   "id": "3ec20025",
   "metadata": {},
   "outputs": [],
   "source": [
    "all_languages = list(df['original_language'])\n",
    "# ещё учтём, что в колонке 'spoken_languages' есть языки, которых нет в 'original_language'\n",
    "all_languages += [l['iso_639_1'].lower() for sp_lang_list in df['spoken_languages'] for l in sp_lang_list]\n",
    "all_languages = sorted(list(set(all_languages)))"
   ]
  },
  {
   "cell_type": "code",
   "execution_count": 13,
   "id": "ea75e4e7",
   "metadata": {},
   "outputs": [],
   "source": [
    "df['spoken_languages'] = df['spoken_languages'].apply(lambda x: [f\"spoken_lang_{d['iso_639_1']}\" for d in x])"
   ]
  },
  {
   "cell_type": "code",
   "execution_count": 14,
   "id": "d27a1f41",
   "metadata": {},
   "outputs": [],
   "source": [
    "df['original_language'] = df['original_language'].apply(lambda x: f\"original_language_{x}\")"
   ]
  },
  {
   "cell_type": "markdown",
   "id": "9d50d694",
   "metadata": {},
   "source": [
    "Преобразуем страны производства"
   ]
  },
  {
   "cell_type": "code",
   "execution_count": 15,
   "id": "ff5f9d62",
   "metadata": {},
   "outputs": [],
   "source": [
    "all_countries = [ctry['iso_3166_1'].upper() for ctry_list in df['production_countries'] for ctry in ctry_list]\n",
    "all_countries = sorted(list(set(all_countries)))"
   ]
  },
  {
   "cell_type": "code",
   "execution_count": 16,
   "id": "78fd19f1",
   "metadata": {},
   "outputs": [],
   "source": [
    "df['production_countries'] = df['production_countries'].map(lambda x: [f\"prod_country_{d['iso_3166_1']}\" for d in x])"
   ]
  },
  {
   "cell_type": "markdown",
   "id": "e0100618",
   "metadata": {},
   "source": [
    "Даже в этом сравнительно небольшом датасете очень много разных людей в cast и crew, как и кинокомпаний. Вряд ли получится адекватно учесть все эти признаки без переобучения, поэтому уберём их совсем."
   ]
  },
  {
   "cell_type": "code",
   "execution_count": 17,
   "id": "096b983f",
   "metadata": {},
   "outputs": [],
   "source": [
    "del df['production_companies']\n",
    "del df['cast']\n",
    "del df['crew']"
   ]
  },
  {
   "cell_type": "markdown",
   "id": "3302742c",
   "metadata": {},
   "source": [
    "Из даты выпуска оставим только год, так как остальное будет пренебрежимо слабо влиять на предсказание"
   ]
  },
  {
   "cell_type": "code",
   "execution_count": 18,
   "id": "3ca967e1",
   "metadata": {},
   "outputs": [],
   "source": [
    "def release_date_to_year(date: str):\n",
    "    year = int(date[-2:])\n",
    "    if year > 20: # Dataset is from 5 years ago\n",
    "        return (1900 + year)\n",
    "    else:\n",
    "        return (2000 + year)"
   ]
  },
  {
   "cell_type": "code",
   "execution_count": 19,
   "id": "bfb31090",
   "metadata": {},
   "outputs": [],
   "source": [
    "df['release_year'] = df['release_date'].apply(release_date_to_year)\n",
    "del df['release_date']"
   ]
  },
  {
   "cell_type": "markdown",
   "id": "4509a137",
   "metadata": {},
   "source": [
    "Для колонки runtime нам не нужен float, потом кастанём его к int"
   ]
  },
  {
   "cell_type": "code",
   "execution_count": 20,
   "id": "a6b1d93f",
   "metadata": {},
   "outputs": [],
   "source": [
    "df['runtime'] = df['runtime'].replace([np.nan, -np.inf, np.inf], 0).astype(int)"
   ]
  },
  {
   "cell_type": "markdown",
   "id": "ac04df09",
   "metadata": {},
   "source": [
    "Заметим, что у нас есть некоторое количество фильмов без длительности"
   ]
  },
  {
   "cell_type": "code",
   "execution_count": 21,
   "id": "4232dcf6",
   "metadata": {},
   "outputs": [
    {
     "data": {
      "text/html": [
       "<div>\n",
       "<style scoped>\n",
       "    .dataframe tbody tr th:only-of-type {\n",
       "        vertical-align: middle;\n",
       "    }\n",
       "\n",
       "    .dataframe tbody tr th {\n",
       "        vertical-align: top;\n",
       "    }\n",
       "\n",
       "    .dataframe thead th {\n",
       "        text-align: right;\n",
       "    }\n",
       "</style>\n",
       "<table border=\"1\" class=\"dataframe\">\n",
       "  <thead>\n",
       "    <tr style=\"text-align: right;\">\n",
       "      <th></th>\n",
       "      <th>runtime</th>\n",
       "      <th>title</th>\n",
       "      <th>release_year</th>\n",
       "    </tr>\n",
       "  </thead>\n",
       "  <tbody>\n",
       "    <tr>\n",
       "      <th>390</th>\n",
       "      <td>0</td>\n",
       "      <td>The Worst Christmas of My Life</td>\n",
       "      <td>2012</td>\n",
       "    </tr>\n",
       "    <tr>\n",
       "      <th>591</th>\n",
       "      <td>0</td>\n",
       "      <td>А поутру они проснулись</td>\n",
       "      <td>2003</td>\n",
       "    </tr>\n",
       "    <tr>\n",
       "      <th>924</th>\n",
       "      <td>0</td>\n",
       "      <td>¿Quién mató a Bambi?</td>\n",
       "      <td>2013</td>\n",
       "    </tr>\n",
       "    <tr>\n",
       "      <th>977</th>\n",
       "      <td>0</td>\n",
       "      <td>La peggior settimana della mia vita</td>\n",
       "      <td>2011</td>\n",
       "    </tr>\n",
       "    <tr>\n",
       "      <th>1255</th>\n",
       "      <td>0</td>\n",
       "      <td>Cry, Onion!</td>\n",
       "      <td>1975</td>\n",
       "    </tr>\n",
       "    <tr>\n",
       "      <th>1335</th>\n",
       "      <td>0</td>\n",
       "      <td>Королёв</td>\n",
       "      <td>2007</td>\n",
       "    </tr>\n",
       "    <tr>\n",
       "      <th>1541</th>\n",
       "      <td>0</td>\n",
       "      <td>All at Once</td>\n",
       "      <td>2014</td>\n",
       "    </tr>\n",
       "    <tr>\n",
       "      <th>1874</th>\n",
       "      <td>0</td>\n",
       "      <td>Missing</td>\n",
       "      <td>2007</td>\n",
       "    </tr>\n",
       "    <tr>\n",
       "      <th>2150</th>\n",
       "      <td>0</td>\n",
       "      <td>Mechenosets</td>\n",
       "      <td>2006</td>\n",
       "    </tr>\n",
       "    <tr>\n",
       "      <th>2302</th>\n",
       "      <td>0</td>\n",
       "      <td>Happy Weekend</td>\n",
       "      <td>1996</td>\n",
       "    </tr>\n",
       "    <tr>\n",
       "      <th>2498</th>\n",
       "      <td>0</td>\n",
       "      <td>Hooked on the Game 2. The Next Level</td>\n",
       "      <td>2010</td>\n",
       "    </tr>\n",
       "    <tr>\n",
       "      <th>2645</th>\n",
       "      <td>0</td>\n",
       "      <td>My Old Classmate</td>\n",
       "      <td>2014</td>\n",
       "    </tr>\n",
       "    <tr>\n",
       "      <th>2785</th>\n",
       "      <td>0</td>\n",
       "      <td>Revelation</td>\n",
       "      <td>2001</td>\n",
       "    </tr>\n",
       "    <tr>\n",
       "      <th>2865</th>\n",
       "      <td>0</td>\n",
       "      <td>Tutto tutto niente niente</td>\n",
       "      <td>2012</td>\n",
       "    </tr>\n",
       "  </tbody>\n",
       "</table>\n",
       "</div>"
      ],
      "text/plain": [
       "      runtime                                 title  release_year\n",
       "390         0        The Worst Christmas of My Life          2012\n",
       "591         0               А поутру они проснулись          2003\n",
       "924         0                  ¿Quién mató a Bambi?          2013\n",
       "977         0   La peggior settimana della mia vita          2011\n",
       "1255        0                           Cry, Onion!          1975\n",
       "1335        0                               Королёв          2007\n",
       "1541        0                           All at Once          2014\n",
       "1874        0                               Missing          2007\n",
       "2150        0                           Mechenosets          2006\n",
       "2302        0                         Happy Weekend          1996\n",
       "2498        0  Hooked on the Game 2. The Next Level          2010\n",
       "2645        0                      My Old Classmate          2014\n",
       "2785        0                            Revelation          2001\n",
       "2865        0             Tutto tutto niente niente          2012"
      ]
     },
     "execution_count": 21,
     "metadata": {},
     "output_type": "execute_result"
    }
   ],
   "source": [
    "tmp_df = pd.DataFrame()\n",
    "tmp_df['runtime'] = df['runtime']\n",
    "tmp_df['title'] = df['title']\n",
    "tmp_df['release_year'] = df['release_year']\n",
    "tmp_df[tmp_df['runtime'] == 0]"
   ]
  },
  {
   "cell_type": "markdown",
   "id": "d03c93d3",
   "metadata": {},
   "source": [
    "Их не так много, поэтому дополним датасет недостающими runtime вручную"
   ]
  },
  {
   "cell_type": "code",
   "execution_count": 22,
   "id": "8190ec6b",
   "metadata": {},
   "outputs": [],
   "source": [
    "df['runtime'][390] = 86\n",
    "df['runtime'][591] = 90\n",
    "df['runtime'][924] = 86\n",
    "df['runtime'][977] = 93\n",
    "df['runtime'][1255] = 91\n",
    "df['runtime'][1335] = 120\n",
    "df['runtime'][1541] = 93\n",
    "df['runtime'][1874] = 90\n",
    "df['runtime'][2150] = 108\n",
    "df['runtime'][2302] = 90\n",
    "df['runtime'][2498] = 89\n",
    "df['runtime'][2645] = 98\n",
    "df['runtime'][2785] = 111\n",
    "df['runtime'][2865] = 90"
   ]
  },
  {
   "cell_type": "code",
   "execution_count": 23,
   "id": "251b7e9f",
   "metadata": {},
   "outputs": [],
   "source": [
    "del tmp_df"
   ]
  },
  {
   "cell_type": "markdown",
   "id": "f63e5fb4",
   "metadata": {},
   "source": [
    "Предположительно, все текстовые фичи (title, overview, tagline, keywords) влияют на кассовые сборы примерно одинаково. Сконкатенируем их, и сделаем фичу description.\n",
    "\n",
    "*\\* tagline — рекламный слоган, сопровождающий картину*"
   ]
  },
  {
   "cell_type": "code",
   "execution_count": 24,
   "id": "458b5eaa",
   "metadata": {},
   "outputs": [],
   "source": [
    "df['Keywords'] = df['Keywords'].apply(lambda x: ' '.join([w['name'] for w in x]))"
   ]
  },
  {
   "cell_type": "code",
   "execution_count": 25,
   "id": "2a6ca4ab",
   "metadata": {},
   "outputs": [],
   "source": [
    "df['description'] = df.agg(lambda x: f\"{x['overview']}\" if isinstance(x['overview'], str) else \"\", axis=1)\n",
    "df['description'] = df.agg(lambda x: f\"{x['description']} {x['tagline']}\" if isinstance(x['tagline'], str) else x['description'], axis=1)\n",
    "df['description'] = df.agg(lambda x: f\"{x['description']} {x['Keywords']}\" if isinstance(x['Keywords'], str) else x['description'], axis=1)\n",
    "df['description'] = df.agg(lambda x: f\"{x['description']} {x['title']}\" if isinstance(x['title'], str) else x['description'], axis=1)\n",
    "del df['overview']\n",
    "del df['tagline']\n",
    "del df['Keywords']\n",
    "del df['title']"
   ]
  },
  {
   "cell_type": "markdown",
   "id": "2ac93d7d",
   "metadata": {},
   "source": [
    "Осталось применить One Hot Encoding к колонкам genres, production_countries, spoken_languages и original_language. Для него удобнее будет превратить эти признаки в строки со значениями через запятую."
   ]
  },
  {
   "cell_type": "code",
   "execution_count": 26,
   "id": "b9958b32",
   "metadata": {},
   "outputs": [],
   "source": [
    "df['genres'] = df['genres'].apply(lambda x: ', '.join(x))\n",
    "df['production_countries'] = df['production_countries'].apply(lambda x: ', '.join(x))\n",
    "df['spoken_languages'] = df['spoken_languages'].apply(lambda x: ', '.join(x))"
   ]
  },
  {
   "cell_type": "code",
   "execution_count": 27,
   "id": "1a3d4bea",
   "metadata": {},
   "outputs": [],
   "source": [
    "genres_ohe = df['genres'].str.get_dummies(sep=\", \")\n",
    "production_countries_ohe = df['production_countries'].str.get_dummies(sep=\", \")\n",
    "spoken_languages_ohe = df['spoken_languages'].str.get_dummies(sep=\", \")\n",
    "original_language_ohe = df['original_language'].str.get_dummies()\n",
    "del df['genres']\n",
    "del df['production_countries']\n",
    "del df['spoken_languages']\n",
    "del df['original_language']\n",
    "df = pd.concat([df, genres_ohe, production_countries_ohe, spoken_languages_ohe,original_language_ohe], axis=1)"
   ]
  },
  {
   "cell_type": "markdown",
   "id": "e53333d0",
   "metadata": {},
   "source": [
    "Мы будем решать задачу классификация относительно того, в какой диапозон прибыли попадёт тот или иной фильм."
   ]
  },
  {
   "cell_type": "code",
   "execution_count": 28,
   "id": "27292344",
   "metadata": {},
   "outputs": [
    {
     "name": "stderr",
     "output_type": "stream",
     "text": [
      "[nltk_data] Downloading package stopwords to /root/nltk_data...\n",
      "[nltk_data]   Package stopwords is already up-to-date!\n"
     ]
    }
   ],
   "source": [
    "from utils import classify_revenue\n",
    "\n",
    "df['revenue'] = df['revenue'].apply(classify_revenue)"
   ]
  },
  {
   "cell_type": "markdown",
   "id": "11f74b6b",
   "metadata": {},
   "source": [
    "Посмотрим на распределение классов для нашей задачи"
   ]
  },
  {
   "cell_type": "code",
   "execution_count": 29,
   "id": "0f591dd7",
   "metadata": {},
   "outputs": [
    {
     "data": {
      "text/plain": [
       "<Axes: >"
      ]
     },
     "execution_count": 29,
     "metadata": {},
     "output_type": "execute_result"
    },
    {
     "data": {
      "image/png": "[encoded data removed]",
      "text/plain": [
       "<Figure size 640x480 with 1 Axes>"
      ]
     },
     "metadata": {},
     "output_type": "display_data"
    }
   ],
   "source": [
    "df['revenue'].hist(bins=20)"
   ]
  },
  {
   "cell_type": "code",
   "execution_count": 30,
   "id": "062b39a8",
   "metadata": {},
   "outputs": [
    {
     "data": {
      "text/plain": [
       "array(['belongs_to_collection', 'budget', 'popularity', 'runtime',\n",
       "       'revenue', 'release_year', 'description', 'Action', 'Adventure',\n",
       "       'Animation', 'Comedy', 'Crime', 'Documentary', 'Drama', 'Family',\n",
       "       'Fantasy', 'Foreign', 'History', 'Horror', 'Music', 'Mystery',\n",
       "       'Romance', 'Science Fiction', 'TV Movie', 'Thriller', 'War',\n",
       "       'Western', 'prod_country_AE', 'prod_country_AR', 'prod_country_AT',\n",
       "       'prod_country_AU', 'prod_country_BA', 'prod_country_BE',\n",
       "       'prod_country_BF', 'prod_country_BG', 'prod_country_BR',\n",
       "       'prod_country_BS', 'prod_country_CA', 'prod_country_CH',\n",
       "       'prod_country_CL', 'prod_country_CN', 'prod_country_CR',\n",
       "       'prod_country_CS', 'prod_country_CY', 'prod_country_CZ',\n",
       "       'prod_country_DE', 'prod_country_DK', 'prod_country_DZ',\n",
       "       'prod_country_ES', 'prod_country_ET', 'prod_country_FI',\n",
       "       'prod_country_FR', 'prod_country_GB', 'prod_country_GH',\n",
       "       'prod_country_GR', 'prod_country_HK', 'prod_country_HR',\n",
       "       'prod_country_HU', 'prod_country_ID', 'prod_country_IE',\n",
       "       'prod_country_IL', 'prod_country_IN', 'prod_country_IR',\n",
       "       'prod_country_IS', 'prod_country_IT', 'prod_country_JO',\n",
       "       'prod_country_JP', 'prod_country_KH', 'prod_country_KR',\n",
       "       'prod_country_LU', 'prod_country_MA', 'prod_country_MN',\n",
       "       'prod_country_MR', 'prod_country_MT', 'prod_country_MX',\n",
       "       'prod_country_NA', 'prod_country_NL', 'prod_country_NO',\n",
       "       'prod_country_NZ', 'prod_country_PE', 'prod_country_PH',\n",
       "       'prod_country_PK', 'prod_country_PL', 'prod_country_PR',\n",
       "       'prod_country_PT', 'prod_country_PY', 'prod_country_QA',\n",
       "       'prod_country_RO', 'prod_country_RS', 'prod_country_RU',\n",
       "       'prod_country_SA', 'prod_country_SE', 'prod_country_SG',\n",
       "       'prod_country_SI', 'prod_country_TN', 'prod_country_TR',\n",
       "       'prod_country_TW', 'prod_country_UA', 'prod_country_US',\n",
       "       'prod_country_UY', 'prod_country_ZA'], dtype='<U21')"
      ]
     },
     "execution_count": 30,
     "metadata": {},
     "output_type": "execute_result"
    }
   ],
   "source": [
    "np.array([c for c in np.array(df.columns) if not (c.startswith('spoken') or c.startswith('original'))])"
   ]
  },
  {
   "cell_type": "markdown",
   "id": "c35177d5",
   "metadata": {},
   "source": [
    "Готово.\n",
    "\n",
    "Сохраним предобработанные данные в отдельный файл, чтобы использовать в следующей части"
   ]
  },
  {
   "cell_type": "code",
   "execution_count": 31,
   "id": "1395fce9",
   "metadata": {},
   "outputs": [],
   "source": [
    "import pickle\n",
    "import os\n",
    "\n",
    "\n",
    "df.to_csv(os.path.join('data', 'preprocessed_train.csv'))\n",
    "\n",
    "with open(os.path.join('data', 'supported_values.pkl'), 'wb') as f:\n",
    "    pickle.dump((all_genres, all_languages, all_countries), f)"
   ]
  },
  {
   "cell_type": "markdown",
   "id": "2c0c9170",
   "metadata": {},
   "source": [
    "Сохраним пустой DataFrame, чтобы было удобно приводить данные, полученные от пользователя на сайте, в вид, необходимый для модели "
   ]
  },
  {
   "cell_type": "code",
   "execution_count": 32,
   "id": "c1d8a3ee",
   "metadata": {},
   "outputs": [],
   "source": [
    "df.sample(0).to_csv(os.path.join('data', 'dataframe_header.csv'))"
   ]
  },
  {
   "cell_type": "code",
   "execution_count": 33,
   "id": "a7cbeef6",
   "metadata": {},
   "outputs": [],
   "source": [
    "# all_genres = set([g for genre_list in df['genres'] for g in genre_list])\n",
    "# all_ = set([g for genre_list in df['genres'] for g in genre_list])"
   ]
  }
 ],
 "metadata": {
  "kernelspec": {
   "display_name": "Python 3 (ipykernel)",
   "language": "python",
   "name": "python3"
  },
  "language_info": {
   "codemirror_mode": {
    "name": "ipython",
    "version": 3
   },
   "file_extension": ".py",
   "mimetype": "text/x-python",
   "name": "python",
   "nbconvert_exporter": "python",
   "pygments_lexer": "ipython3",
   "version": "3.10.12"
  }
 },
 "nbformat": 4,
 "nbformat_minor": 5
}
