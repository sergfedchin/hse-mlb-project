{
 "cells": [
  {
   "cell_type": "markdown",
   "id": "c53a9559",
   "metadata": {},
   "source": [
    "#                           Предсказание кассовых сборов фильмов"
   ]
  },
  {
   "cell_type": "markdown",
   "id": "af94652a",
   "metadata": {},
   "source": [
    "Для предсказания будем использовать датасет с Каггла: TMDB Box Office Prediction - https://www.kaggle.com/c/tmdb-box-office-prediction"
   ]
  },
  {
   "cell_type": "code",
   "execution_count": 1,
   "id": "df6e1407",
   "metadata": {},
   "outputs": [],
   "source": [
    "%config IPCompleter.greedy=True"
   ]
  },
  {
   "cell_type": "code",
   "execution_count": 2,
   "id": "c187c957",
   "metadata": {},
   "outputs": [],
   "source": [
    "# !pip install -r requirements"
   ]
  },
  {
   "cell_type": "markdown",
   "id": "7bea6272",
   "metadata": {},
   "source": [
    "Загрузим все необходимые библиотеки"
   ]
  },
  {
   "cell_type": "code",
   "execution_count": 3,
   "id": "9e6fd23e",
   "metadata": {},
   "outputs": [],
   "source": [
    "import numpy as np\n",
    "import pandas as pd\n",
    "import matplotlib.pyplot as plt\n",
    "import seaborn as sns\n",
    "from sklearn.model_selection import train_test_split\n",
    "from sklearn.metrics import f1_score\n",
    "from sklearn.linear_model import LogisticRegression\n",
    "import re"
   ]
  },
  {
   "cell_type": "code",
   "execution_count": 4,
   "id": "b0ab8a09",
   "metadata": {},
   "outputs": [],
   "source": [
    "df = pd.read_csv(\"data/train.csv\")"
   ]
  },
  {
   "cell_type": "code",
   "execution_count": 5,
   "id": "a8602788",
   "metadata": {},
   "outputs": [
    {
     "data": {
      "text/html": [
       "<div>\n",
       "<style scoped>\n",
       "    .dataframe tbody tr th:only-of-type {\n",
       "        vertical-align: middle;\n",
       "    }\n",
       "\n",
       "    .dataframe tbody tr th {\n",
       "        vertical-align: top;\n",
       "    }\n",
       "\n",
       "    .dataframe thead th {\n",
       "        text-align: right;\n",
       "    }\n",
       "</style>\n",
       "<table border=\"1\" class=\"dataframe\">\n",
       "  <thead>\n",
       "    <tr style=\"text-align: right;\">\n",
       "      <th></th>\n",
       "      <th>id</th>\n",
       "      <th>belongs_to_collection</th>\n",
       "      <th>budget</th>\n",
       "      <th>genres</th>\n",
       "      <th>homepage</th>\n",
       "      <th>imdb_id</th>\n",
       "      <th>original_language</th>\n",
       "      <th>original_title</th>\n",
       "      <th>overview</th>\n",
       "      <th>popularity</th>\n",
       "      <th>...</th>\n",
       "      <th>release_date</th>\n",
       "      <th>runtime</th>\n",
       "      <th>spoken_languages</th>\n",
       "      <th>status</th>\n",
       "      <th>tagline</th>\n",
       "      <th>title</th>\n",
       "      <th>Keywords</th>\n",
       "      <th>cast</th>\n",
       "      <th>crew</th>\n",
       "      <th>revenue</th>\n",
       "    </tr>\n",
       "  </thead>\n",
       "  <tbody>\n",
       "    <tr>\n",
       "      <th>0</th>\n",
       "      <td>1</td>\n",
       "      <td>[{'id': 313576, 'name': 'Hot Tub Time Machine ...</td>\n",
       "      <td>14000000</td>\n",
       "      <td>[{'id': 35, 'name': 'Comedy'}]</td>\n",
       "      <td>NaN</td>\n",
       "      <td>tt2637294</td>\n",
       "      <td>en</td>\n",
       "      <td>Hot Tub Time Machine 2</td>\n",
       "      <td>When Lou, who has become the \"father of the In...</td>\n",
       "      <td>6.575393</td>\n",
       "      <td>...</td>\n",
       "      <td>2/20/15</td>\n",
       "      <td>93.0</td>\n",
       "      <td>[{'iso_639_1': 'en', 'name': 'English'}]</td>\n",
       "      <td>Released</td>\n",
       "      <td>The Laws of Space and Time are About to be Vio...</td>\n",
       "      <td>Hot Tub Time Machine 2</td>\n",
       "      <td>[{'id': 4379, 'name': 'time travel'}, {'id': 9...</td>\n",
       "      <td>[{'cast_id': 4, 'character': 'Lou', 'credit_id...</td>\n",
       "      <td>[{'credit_id': '59ac067c92514107af02c8c8', 'de...</td>\n",
       "      <td>12314651</td>\n",
       "    </tr>\n",
       "    <tr>\n",
       "      <th>1</th>\n",
       "      <td>2</td>\n",
       "      <td>[{'id': 107674, 'name': 'The Princess Diaries ...</td>\n",
       "      <td>40000000</td>\n",
       "      <td>[{'id': 35, 'name': 'Comedy'}, {'id': 18, 'nam...</td>\n",
       "      <td>NaN</td>\n",
       "      <td>tt0368933</td>\n",
       "      <td>en</td>\n",
       "      <td>The Princess Diaries 2: Royal Engagement</td>\n",
       "      <td>Mia Thermopolis is now a college graduate and ...</td>\n",
       "      <td>8.248895</td>\n",
       "      <td>...</td>\n",
       "      <td>8/6/04</td>\n",
       "      <td>113.0</td>\n",
       "      <td>[{'iso_639_1': 'en', 'name': 'English'}]</td>\n",
       "      <td>Released</td>\n",
       "      <td>It can take a lifetime to find true love; she'...</td>\n",
       "      <td>The Princess Diaries 2: Royal Engagement</td>\n",
       "      <td>[{'id': 2505, 'name': 'coronation'}, {'id': 42...</td>\n",
       "      <td>[{'cast_id': 1, 'character': 'Mia Thermopolis'...</td>\n",
       "      <td>[{'credit_id': '52fe43fe9251416c7502563d', 'de...</td>\n",
       "      <td>95149435</td>\n",
       "    </tr>\n",
       "    <tr>\n",
       "      <th>2</th>\n",
       "      <td>3</td>\n",
       "      <td>NaN</td>\n",
       "      <td>3300000</td>\n",
       "      <td>[{'id': 18, 'name': 'Drama'}]</td>\n",
       "      <td>http://sonyclassics.com/whiplash/</td>\n",
       "      <td>tt2582802</td>\n",
       "      <td>en</td>\n",
       "      <td>Whiplash</td>\n",
       "      <td>Under the direction of a ruthless instructor, ...</td>\n",
       "      <td>64.299990</td>\n",
       "      <td>...</td>\n",
       "      <td>10/10/14</td>\n",
       "      <td>105.0</td>\n",
       "      <td>[{'iso_639_1': 'en', 'name': 'English'}]</td>\n",
       "      <td>Released</td>\n",
       "      <td>The road to greatness can take you to the edge.</td>\n",
       "      <td>Whiplash</td>\n",
       "      <td>[{'id': 1416, 'name': 'jazz'}, {'id': 1523, 'n...</td>\n",
       "      <td>[{'cast_id': 5, 'character': 'Andrew Neimann',...</td>\n",
       "      <td>[{'credit_id': '54d5356ec3a3683ba0000039', 'de...</td>\n",
       "      <td>13092000</td>\n",
       "    </tr>\n",
       "    <tr>\n",
       "      <th>3</th>\n",
       "      <td>4</td>\n",
       "      <td>NaN</td>\n",
       "      <td>1200000</td>\n",
       "      <td>[{'id': 53, 'name': 'Thriller'}, {'id': 18, 'n...</td>\n",
       "      <td>http://kahaanithefilm.com/</td>\n",
       "      <td>tt1821480</td>\n",
       "      <td>hi</td>\n",
       "      <td>Kahaani</td>\n",
       "      <td>Vidya Bagchi (Vidya Balan) arrives in Kolkata ...</td>\n",
       "      <td>3.174936</td>\n",
       "      <td>...</td>\n",
       "      <td>3/9/12</td>\n",
       "      <td>122.0</td>\n",
       "      <td>[{'iso_639_1': 'en', 'name': 'English'}, {'iso...</td>\n",
       "      <td>Released</td>\n",
       "      <td>NaN</td>\n",
       "      <td>Kahaani</td>\n",
       "      <td>[{'id': 10092, 'name': 'mystery'}, {'id': 1054...</td>\n",
       "      <td>[{'cast_id': 1, 'character': 'Vidya Bagchi', '...</td>\n",
       "      <td>[{'credit_id': '52fe48779251416c9108d6eb', 'de...</td>\n",
       "      <td>16000000</td>\n",
       "    </tr>\n",
       "    <tr>\n",
       "      <th>4</th>\n",
       "      <td>5</td>\n",
       "      <td>NaN</td>\n",
       "      <td>0</td>\n",
       "      <td>[{'id': 28, 'name': 'Action'}, {'id': 53, 'nam...</td>\n",
       "      <td>NaN</td>\n",
       "      <td>tt1380152</td>\n",
       "      <td>ko</td>\n",
       "      <td>마린보이</td>\n",
       "      <td>Marine Boy is the story of a former national s...</td>\n",
       "      <td>1.148070</td>\n",
       "      <td>...</td>\n",
       "      <td>2/5/09</td>\n",
       "      <td>118.0</td>\n",
       "      <td>[{'iso_639_1': 'ko', 'name': '한국어/조선말'}]</td>\n",
       "      <td>Released</td>\n",
       "      <td>NaN</td>\n",
       "      <td>Marine Boy</td>\n",
       "      <td>NaN</td>\n",
       "      <td>[{'cast_id': 3, 'character': 'Chun-soo', 'cred...</td>\n",
       "      <td>[{'credit_id': '52fe464b9251416c75073b43', 'de...</td>\n",
       "      <td>3923970</td>\n",
       "    </tr>\n",
       "  </tbody>\n",
       "</table>\n",
       "<p>5 rows × 23 columns</p>\n",
       "</div>"
      ],
      "text/plain": [
       "   id                              belongs_to_collection    budget  \\\n",
       "0   1  [{'id': 313576, 'name': 'Hot Tub Time Machine ...  14000000   \n",
       "1   2  [{'id': 107674, 'name': 'The Princess Diaries ...  40000000   \n",
       "2   3                                                NaN   3300000   \n",
       "3   4                                                NaN   1200000   \n",
       "4   5                                                NaN         0   \n",
       "\n",
       "                                              genres  \\\n",
       "0                     [{'id': 35, 'name': 'Comedy'}]   \n",
       "1  [{'id': 35, 'name': 'Comedy'}, {'id': 18, 'nam...   \n",
       "2                      [{'id': 18, 'name': 'Drama'}]   \n",
       "3  [{'id': 53, 'name': 'Thriller'}, {'id': 18, 'n...   \n",
       "4  [{'id': 28, 'name': 'Action'}, {'id': 53, 'nam...   \n",
       "\n",
       "                            homepage    imdb_id original_language  \\\n",
       "0                                NaN  tt2637294                en   \n",
       "1                                NaN  tt0368933                en   \n",
       "2  http://sonyclassics.com/whiplash/  tt2582802                en   \n",
       "3         http://kahaanithefilm.com/  tt1821480                hi   \n",
       "4                                NaN  tt1380152                ko   \n",
       "\n",
       "                             original_title  \\\n",
       "0                    Hot Tub Time Machine 2   \n",
       "1  The Princess Diaries 2: Royal Engagement   \n",
       "2                                  Whiplash   \n",
       "3                                   Kahaani   \n",
       "4                                      마린보이   \n",
       "\n",
       "                                            overview  popularity  ...  \\\n",
       "0  When Lou, who has become the \"father of the In...    6.575393  ...   \n",
       "1  Mia Thermopolis is now a college graduate and ...    8.248895  ...   \n",
       "2  Under the direction of a ruthless instructor, ...   64.299990  ...   \n",
       "3  Vidya Bagchi (Vidya Balan) arrives in Kolkata ...    3.174936  ...   \n",
       "4  Marine Boy is the story of a former national s...    1.148070  ...   \n",
       "\n",
       "  release_date runtime                                   spoken_languages  \\\n",
       "0      2/20/15    93.0           [{'iso_639_1': 'en', 'name': 'English'}]   \n",
       "1       8/6/04   113.0           [{'iso_639_1': 'en', 'name': 'English'}]   \n",
       "2     10/10/14   105.0           [{'iso_639_1': 'en', 'name': 'English'}]   \n",
       "3       3/9/12   122.0  [{'iso_639_1': 'en', 'name': 'English'}, {'iso...   \n",
       "4       2/5/09   118.0           [{'iso_639_1': 'ko', 'name': '한국어/조선말'}]   \n",
       "\n",
       "     status                                            tagline  \\\n",
       "0  Released  The Laws of Space and Time are About to be Vio...   \n",
       "1  Released  It can take a lifetime to find true love; she'...   \n",
       "2  Released    The road to greatness can take you to the edge.   \n",
       "3  Released                                                NaN   \n",
       "4  Released                                                NaN   \n",
       "\n",
       "                                      title  \\\n",
       "0                    Hot Tub Time Machine 2   \n",
       "1  The Princess Diaries 2: Royal Engagement   \n",
       "2                                  Whiplash   \n",
       "3                                   Kahaani   \n",
       "4                                Marine Boy   \n",
       "\n",
       "                                            Keywords  \\\n",
       "0  [{'id': 4379, 'name': 'time travel'}, {'id': 9...   \n",
       "1  [{'id': 2505, 'name': 'coronation'}, {'id': 42...   \n",
       "2  [{'id': 1416, 'name': 'jazz'}, {'id': 1523, 'n...   \n",
       "3  [{'id': 10092, 'name': 'mystery'}, {'id': 1054...   \n",
       "4                                                NaN   \n",
       "\n",
       "                                                cast  \\\n",
       "0  [{'cast_id': 4, 'character': 'Lou', 'credit_id...   \n",
       "1  [{'cast_id': 1, 'character': 'Mia Thermopolis'...   \n",
       "2  [{'cast_id': 5, 'character': 'Andrew Neimann',...   \n",
       "3  [{'cast_id': 1, 'character': 'Vidya Bagchi', '...   \n",
       "4  [{'cast_id': 3, 'character': 'Chun-soo', 'cred...   \n",
       "\n",
       "                                                crew   revenue  \n",
       "0  [{'credit_id': '59ac067c92514107af02c8c8', 'de...  12314651  \n",
       "1  [{'credit_id': '52fe43fe9251416c7502563d', 'de...  95149435  \n",
       "2  [{'credit_id': '54d5356ec3a3683ba0000039', 'de...  13092000  \n",
       "3  [{'credit_id': '52fe48779251416c9108d6eb', 'de...  16000000  \n",
       "4  [{'credit_id': '52fe464b9251416c75073b43', 'de...   3923970  \n",
       "\n",
       "[5 rows x 23 columns]"
      ]
     },
     "execution_count": 5,
     "metadata": {},
     "output_type": "execute_result"
    }
   ],
   "source": [
    "df.head()"
   ]
  },
  {
   "cell_type": "markdown",
   "id": "9e8c92a1",
   "metadata": {},
   "source": [
    "## Часть 1: предобработка данных и подготовка к обучению"
   ]
  },
  {
   "cell_type": "code",
   "execution_count": 6,
   "id": "c0bd83f2",
   "metadata": {},
   "outputs": [],
   "source": [
    "def is_int(s):\n",
    "    try: \n",
    "        int(s)\n",
    "    except ValueError:\n",
    "        return False\n",
    "    else:\n",
    "        return True"
   ]
  },
  {
   "cell_type": "code",
   "execution_count": 7,
   "id": "8978fe19",
   "metadata": {},
   "outputs": [],
   "source": [
    "def parse_string_line_list(string):\n",
    "    result = list()\n",
    "    current_number = \"\"\n",
    "    for x in string:\n",
    "        if x.isdigit():\n",
    "            current_number += x\n",
    "        else:\n",
    "            if current_number != \"\":\n",
    "                if is_int(current_number):\n",
    "                    result.append(int(current_number))\n",
    "            current_number = \"\"\n",
    "    if current_number != \"\":\n",
    "                result.append(int(current_number))\n",
    "    return result"
   ]
  },
  {
   "cell_type": "code",
   "execution_count": 8,
   "id": "3d3c12d9",
   "metadata": {},
   "outputs": [],
   "source": [
    "def first_actual_number_in_string(string):\n",
    "    current_number = \"\"\n",
    "    for x in string:\n",
    "        if x.isdigit():\n",
    "            current_number += x\n",
    "        else:\n",
    "            if current_number != \"\":\n",
    "                return int(current_number)\n",
    "    return 0"
   ]
  },
  {
   "cell_type": "markdown",
   "id": "bf4f509b",
   "metadata": {},
   "source": [
    "Заменим все значения NaN на нули и применим к колонкам разного типа соответствующий парсер."
   ]
  },
  {
   "cell_type": "code",
   "execution_count": 9,
   "id": "0a7ba223",
   "metadata": {},
   "outputs": [],
   "source": [
    "df[\"genres\"] = df[\"genres\"].replace([np.nan, -np.inf], \"0\")\n",
    "df[\"belongs_to_collection\"] = df[\"belongs_to_collection\"].replace([np.nan, -np.inf], \"0\")\n",
    "df[\"genres\"] = df[\"genres\"].apply(parse_string_line_list)\n",
    "df[\"belongs_to_collection\"] = df[\"belongs_to_collection\"].apply(first_actual_number_in_string)"
   ]
  },
  {
   "cell_type": "markdown",
   "id": "72142834",
   "metadata": {},
   "source": [
    "Удалим ненужные колонки (пока что считаем, что название фильма нерелевантно)"
   ]
  },
  {
   "cell_type": "code",
   "execution_count": 10,
   "id": "e02bc122",
   "metadata": {},
   "outputs": [],
   "source": [
    "del df['homepage']\n",
    "del df['imdb_id']\n",
    "del df['original_title']\n",
    "del df['title']\n",
    "del df['overview']\n",
    "del df['poster_path']"
   ]
  },
  {
   "cell_type": "code",
   "execution_count": 11,
   "id": "325df73a",
   "metadata": {},
   "outputs": [],
   "source": [
    "def tagline_transform(tagline):\n",
    "    if tagline == 0:\n",
    "        return 0\n",
    "    return 1"
   ]
  },
  {
   "cell_type": "markdown",
   "id": "1c99c7e4",
   "metadata": {},
   "source": [
    "Пока что добавим индикатор наличия tagline*, но, скорее всего, нам это не пригодится\n",
    "\n",
    "*\\* tagline — рекламный слоган, сопровождающий картину*"
   ]
  },
  {
   "cell_type": "code",
   "execution_count": 12,
   "id": "2e3608ad",
   "metadata": {},
   "outputs": [],
   "source": [
    "df[\"tagline\"] = df[\"tagline\"].replace([np.nan, -np.inf], 0)\n",
    "df[\"tagline\"] = df[\"tagline\"].apply(tagline_transform)"
   ]
  },
  {
   "cell_type": "markdown",
   "id": "bd80f0ba",
   "metadata": {},
   "source": [
    "Все фильмы уже выпущены, так что статус тоже можно удалить"
   ]
  },
  {
   "cell_type": "code",
   "execution_count": 13,
   "id": "e17ca4dc",
   "metadata": {},
   "outputs": [],
   "source": [
    "del df['status']"
   ]
  },
  {
   "cell_type": "markdown",
   "id": "280c4cc6",
   "metadata": {},
   "source": [
    "Ключевые слова и кинокомпании-создатели можно обработатиь тем же парсером, что и жанры"
   ]
  },
  {
   "cell_type": "code",
   "execution_count": 14,
   "id": "8ab4c0a8",
   "metadata": {},
   "outputs": [],
   "source": [
    "df[\"Keywords\"] = df[\"Keywords\"].replace([np.nan, -np.inf], \"0\")\n",
    "df[\"Keywords\"] = df[\"Keywords\"].apply(parse_string_line_list)\n",
    "df[\"production_companies\"] = df[\"production_companies\"].replace([np.nan, -np.inf], \"0\")\n",
    "df[\"production_companies\"] = df[\"production_companies\"].apply(parse_string_line_list)"
   ]
  },
  {
   "cell_type": "markdown",
   "id": "e34bf94a",
   "metadata": {},
   "source": [
    "Языки как категориальный признак заменим на их id"
   ]
  },
  {
   "cell_type": "code",
   "execution_count": 15,
   "id": "05a5737c",
   "metadata": {},
   "outputs": [],
   "source": [
    "language_code_dict = dict()\n",
    "language_code_dict['value'] = 1\n",
    "def decategorise_language(lang):\n",
    "    if lang in language_code_dict.keys():\n",
    "        return language_code_dict[lang]\n",
    "    else:\n",
    "        language_code_dict[lang] = language_code_dict['value']\n",
    "        language_code_dict['value'] += 1\n",
    "        return language_code_dict['value']-1"
   ]
  },
  {
   "cell_type": "code",
   "execution_count": 16,
   "id": "e43630d0",
   "metadata": {},
   "outputs": [],
   "source": [
    "df[\"original_language\"] = df[\"original_language\"].apply(decategorise_language)"
   ]
  },
  {
   "cell_type": "markdown",
   "id": "35daa9f8",
   "metadata": {},
   "source": [
    "Из даты выпуска оставим только год, так как остальное будет пренебрежимо слабо влиять на предсказание"
   ]
  },
  {
   "cell_type": "code",
   "execution_count": 17,
   "id": "43566aeb",
   "metadata": {},
   "outputs": [],
   "source": [
    "def date_release_to_year(date):\n",
    "    year = int(date[-2:])\n",
    "    if year > 20: # Dataset is from 5 years ago\n",
    "        return (1900 + year)\n",
    "    else:\n",
    "        return (2000 + year)"
   ]
  },
  {
   "cell_type": "code",
   "execution_count": 18,
   "id": "926c40e9",
   "metadata": {},
   "outputs": [],
   "source": [
    "df[\"release_date\"] = df[\"release_date\"].apply(date_release_to_year)"
   ]
  },
  {
   "cell_type": "code",
   "execution_count": 19,
   "id": "d08f2e36",
   "metadata": {},
   "outputs": [],
   "source": [
    "def parse_language_list(language_string):\n",
    "    result = list()\n",
    "    start_indexes = [m.start() for m in re.finditer('iso_639_1', language_string)]\n",
    "    for index in start_indexes:\n",
    "        result.append(decategorise_language(language_string[index + len(\"'iso_639_1': '\")-1:index + len(\"'iso_639_1': '\") + 1]))\n",
    "    return result"
   ]
  },
  {
   "cell_type": "code",
   "execution_count": 20,
   "id": "2d14a9c7",
   "metadata": {},
   "outputs": [],
   "source": [
    "df[\"spoken_languages\"] = df[\"spoken_languages\"].replace([np.nan, -np.inf], \"'iso_639_1': '00' \")\n",
    "df[\"spoken_languages\"] = df[\"spoken_languages\"].apply(parse_language_list)"
   ]
  },
  {
   "cell_type": "markdown",
   "id": "5106dcb3",
   "metadata": {},
   "source": [
    "Похожим на обработку языков способом обработаем остальные списковые данные"
   ]
  },
  {
   "cell_type": "code",
   "execution_count": 21,
   "id": "2209d7df",
   "metadata": {},
   "outputs": [],
   "source": [
    "country_code_dict = dict()\n",
    "country_code_dict['value'] = 0\n",
    "def decategorise_country(country):\n",
    "    if country in country_code_dict.keys():\n",
    "        return country_code_dict[country]\n",
    "    else:\n",
    "        country_code_dict[country] = country_code_dict['value']\n",
    "        country_code_dict['value'] += 1\n",
    "        return country_code_dict['value']-1"
   ]
  },
  {
   "cell_type": "code",
   "execution_count": 22,
   "id": "8cb2385a",
   "metadata": {},
   "outputs": [],
   "source": [
    "def parse_country_list(country_string):\n",
    "    result = list()\n",
    "    start_indexes = [m.start() for m in re.finditer(\"'iso_3166_1'\", country_string)]\n",
    "    for index in start_indexes:\n",
    "        result.append(decategorise_country(country_string[index + len(\"'iso_3166_1': '\"):index + len(\"'iso_3166_1': '\") + 2]))\n",
    "    return result"
   ]
  },
  {
   "cell_type": "code",
   "execution_count": 23,
   "id": "2654cd3e",
   "metadata": {},
   "outputs": [],
   "source": [
    "df[\"production_countries\"] = df[\"production_countries\"].replace([np.nan, -np.inf], \"'iso_3166_1': '00' \")\n",
    "df[\"production_countries\"] = df[\"production_countries\"].apply(parse_country_list)"
   ]
  },
  {
   "cell_type": "code",
   "execution_count": 24,
   "id": "42ac8337",
   "metadata": {},
   "outputs": [],
   "source": [
    "def parse_cast_list(cast_string):\n",
    "    result = list()\n",
    "    start_indexes = [m.start() for m in re.finditer(\"'id'\", cast_string)]\n",
    "    for index in start_indexes:\n",
    "        result.append(first_actual_number_in_string(cast_string[index + len(\"'id':\"):]))\n",
    "    return result"
   ]
  },
  {
   "cell_type": "code",
   "execution_count": 25,
   "id": "b9a91749",
   "metadata": {},
   "outputs": [],
   "source": [
    "df[\"cast\"] = df[\"cast\"].replace([np.nan, -np.inf], \"'id': 0 \")\n",
    "df[\"cast\"] = df[\"cast\"].apply(parse_cast_list)"
   ]
  },
  {
   "cell_type": "code",
   "execution_count": 26,
   "id": "f95b2dc5",
   "metadata": {},
   "outputs": [],
   "source": [
    "df[\"crew\"] = df[\"crew\"].replace([np.nan, -np.inf], \"'id': 0 \")\n",
    "df[\"crew\"] = df[\"crew\"].apply(parse_cast_list)"
   ]
  },
  {
   "cell_type": "markdown",
   "id": "93869a03",
   "metadata": {},
   "source": [
    "Заметим, что индексы 0 и 00 кодируют в разных колонках отсутствие каких-либо изначальных данных"
   ]
  },
  {
   "cell_type": "code",
   "execution_count": 27,
   "id": "0082a666",
   "metadata": {
    "scrolled": true
   },
   "outputs": [
    {
     "data": {
      "text/html": [
       "<div>\n",
       "<style scoped>\n",
       "    .dataframe tbody tr th:only-of-type {\n",
       "        vertical-align: middle;\n",
       "    }\n",
       "\n",
       "    .dataframe tbody tr th {\n",
       "        vertical-align: top;\n",
       "    }\n",
       "\n",
       "    .dataframe thead th {\n",
       "        text-align: right;\n",
       "    }\n",
       "</style>\n",
       "<table border=\"1\" class=\"dataframe\">\n",
       "  <thead>\n",
       "    <tr style=\"text-align: right;\">\n",
       "      <th></th>\n",
       "      <th>id</th>\n",
       "      <th>belongs_to_collection</th>\n",
       "      <th>budget</th>\n",
       "      <th>genres</th>\n",
       "      <th>original_language</th>\n",
       "      <th>popularity</th>\n",
       "      <th>production_companies</th>\n",
       "      <th>production_countries</th>\n",
       "      <th>release_date</th>\n",
       "      <th>runtime</th>\n",
       "      <th>spoken_languages</th>\n",
       "      <th>tagline</th>\n",
       "      <th>Keywords</th>\n",
       "      <th>cast</th>\n",
       "      <th>crew</th>\n",
       "      <th>revenue</th>\n",
       "    </tr>\n",
       "  </thead>\n",
       "  <tbody>\n",
       "    <tr>\n",
       "      <th>0</th>\n",
       "      <td>1</td>\n",
       "      <td>313576</td>\n",
       "      <td>14000000</td>\n",
       "      <td>[35]</td>\n",
       "      <td>1</td>\n",
       "      <td>6.575393</td>\n",
       "      <td>[4, 60, 8411]</td>\n",
       "      <td>[0]</td>\n",
       "      <td>2015</td>\n",
       "      <td>93.0</td>\n",
       "      <td>[1]</td>\n",
       "      <td>1</td>\n",
       "      <td>[4379, 9663, 11830, 179431]</td>\n",
       "      <td>[52997, 64342, 54729, 36801, 54812, 94098, 115...</td>\n",
       "      <td>[1449071, 3227, 347335, 347335, 57822, 1451395...</td>\n",
       "      <td>12314651</td>\n",
       "    </tr>\n",
       "    <tr>\n",
       "      <th>1</th>\n",
       "      <td>2</td>\n",
       "      <td>107674</td>\n",
       "      <td>40000000</td>\n",
       "      <td>[35, 18, 10751, 10749]</td>\n",
       "      <td>1</td>\n",
       "      <td>8.248895</td>\n",
       "      <td>[2]</td>\n",
       "      <td>[0]</td>\n",
       "      <td>2004</td>\n",
       "      <td>113.0</td>\n",
       "      <td>[1]</td>\n",
       "      <td>1</td>\n",
       "      <td>[2505, 4263, 6038, 13072]</td>\n",
       "      <td>[1813, 5823, 1210, 655, 33656, 62064, 68287, 1...</td>\n",
       "      <td>[1201, 1214, 4500, 8851, 12970, 38415, 38416, ...</td>\n",
       "      <td>95149435</td>\n",
       "    </tr>\n",
       "    <tr>\n",
       "      <th>2</th>\n",
       "      <td>3</td>\n",
       "      <td>0</td>\n",
       "      <td>3300000</td>\n",
       "      <td>[18]</td>\n",
       "      <td>1</td>\n",
       "      <td>64.299990</td>\n",
       "      <td>[2266, 3172, 32157]</td>\n",
       "      <td>[0]</td>\n",
       "      <td>2014</td>\n",
       "      <td>105.0</td>\n",
       "      <td>[1]</td>\n",
       "      <td>1</td>\n",
       "      <td>[1416, 1523, 1640, 2176, 14512, 14819, 33896, ...</td>\n",
       "      <td>[996701, 18999, 129104, 970216, 223012, 159366...</td>\n",
       "      <td>[494, 6745, 9250, 23783, 23786, 53181, 52443, ...</td>\n",
       "      <td>13092000</td>\n",
       "    </tr>\n",
       "    <tr>\n",
       "      <th>3</th>\n",
       "      <td>4</td>\n",
       "      <td>0</td>\n",
       "      <td>1200000</td>\n",
       "      <td>[53, 18]</td>\n",
       "      <td>2</td>\n",
       "      <td>3.174936</td>\n",
       "      <td>[0]</td>\n",
       "      <td>[1]</td>\n",
       "      <td>2012</td>\n",
       "      <td>122.0</td>\n",
       "      <td>[1, 2]</td>\n",
       "      <td>0</td>\n",
       "      <td>[10092, 10540, 11734, 14536, 14636, 208364, 22...</td>\n",
       "      <td>[35068, 85047, 1021524, 1093644, 86033, 92686,...</td>\n",
       "      <td>[95510, 95510, 95510]</td>\n",
       "      <td>16000000</td>\n",
       "    </tr>\n",
       "    <tr>\n",
       "      <th>4</th>\n",
       "      <td>5</td>\n",
       "      <td>0</td>\n",
       "      <td>0</td>\n",
       "      <td>[28, 53]</td>\n",
       "      <td>3</td>\n",
       "      <td>1.148070</td>\n",
       "      <td>[0]</td>\n",
       "      <td>[2]</td>\n",
       "      <td>2009</td>\n",
       "      <td>118.0</td>\n",
       "      <td>[3]</td>\n",
       "      <td>0</td>\n",
       "      <td>[0]</td>\n",
       "      <td>[84751, 64453, 84752, 1130534]</td>\n",
       "      <td>[84749, 84749]</td>\n",
       "      <td>3923970</td>\n",
       "    </tr>\n",
       "  </tbody>\n",
       "</table>\n",
       "</div>"
      ],
      "text/plain": [
       "   id  belongs_to_collection    budget                  genres  \\\n",
       "0   1                 313576  14000000                    [35]   \n",
       "1   2                 107674  40000000  [35, 18, 10751, 10749]   \n",
       "2   3                      0   3300000                    [18]   \n",
       "3   4                      0   1200000                [53, 18]   \n",
       "4   5                      0         0                [28, 53]   \n",
       "\n",
       "   original_language  popularity production_companies production_countries  \\\n",
       "0                  1    6.575393        [4, 60, 8411]                  [0]   \n",
       "1                  1    8.248895                  [2]                  [0]   \n",
       "2                  1   64.299990  [2266, 3172, 32157]                  [0]   \n",
       "3                  2    3.174936                  [0]                  [1]   \n",
       "4                  3    1.148070                  [0]                  [2]   \n",
       "\n",
       "   release_date  runtime spoken_languages  tagline  \\\n",
       "0          2015     93.0              [1]        1   \n",
       "1          2004    113.0              [1]        1   \n",
       "2          2014    105.0              [1]        1   \n",
       "3          2012    122.0           [1, 2]        0   \n",
       "4          2009    118.0              [3]        0   \n",
       "\n",
       "                                            Keywords  \\\n",
       "0                        [4379, 9663, 11830, 179431]   \n",
       "1                          [2505, 4263, 6038, 13072]   \n",
       "2  [1416, 1523, 1640, 2176, 14512, 14819, 33896, ...   \n",
       "3  [10092, 10540, 11734, 14536, 14636, 208364, 22...   \n",
       "4                                                [0]   \n",
       "\n",
       "                                                cast  \\\n",
       "0  [52997, 64342, 54729, 36801, 54812, 94098, 115...   \n",
       "1  [1813, 5823, 1210, 655, 33656, 62064, 68287, 1...   \n",
       "2  [996701, 18999, 129104, 970216, 223012, 159366...   \n",
       "3  [35068, 85047, 1021524, 1093644, 86033, 92686,...   \n",
       "4                     [84751, 64453, 84752, 1130534]   \n",
       "\n",
       "                                                crew   revenue  \n",
       "0  [1449071, 3227, 347335, 347335, 57822, 1451395...  12314651  \n",
       "1  [1201, 1214, 4500, 8851, 12970, 38415, 38416, ...  95149435  \n",
       "2  [494, 6745, 9250, 23783, 23786, 53181, 52443, ...  13092000  \n",
       "3                              [95510, 95510, 95510]  16000000  \n",
       "4                                     [84749, 84749]   3923970  "
      ]
     },
     "execution_count": 27,
     "metadata": {},
     "output_type": "execute_result"
    }
   ],
   "source": [
    "df.head()"
   ]
  },
  {
   "cell_type": "markdown",
   "id": "a0d4533b",
   "metadata": {},
   "source": [
    "Колонка revenue является нашим таргетом"
   ]
  },
  {
   "cell_type": "code",
   "execution_count": 28,
   "id": "51c3079f",
   "metadata": {},
   "outputs": [],
   "source": [
    "data = df.drop(\"revenue\", axis= 1)\n",
    "target = df[\"revenue\"]"
   ]
  }
 ],
 "metadata": {
  "kernelspec": {
   "display_name": "Python 3 (ipykernel)",
   "language": "python",
   "name": "python3"
  },
  "language_info": {
   "codemirror_mode": {
    "name": "ipython",
    "version": 3
   },
   "file_extension": ".py",
   "mimetype": "text/x-python",
   "name": "python",
   "nbconvert_exporter": "python",
   "pygments_lexer": "ipython3",
   "version": "3.10.12"
  }
 },
 "nbformat": 4,
 "nbformat_minor": 5
}
