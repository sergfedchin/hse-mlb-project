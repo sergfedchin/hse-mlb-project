{
 "cells": [
  {
   "cell_type": "markdown",
   "metadata": {},
   "source": [
    "# Работа с текстовыми фичами"
   ]
  },
  {
   "cell_type": "markdown",
   "metadata": {},
   "source": [
    "Можно попробовать использовать использовать CountVectorizer с разными моделями, чтобы предсказать по description кассовые сборы фильма, и использовать это предсказание как ещё одну фичу для основной модели. В итоге получим простенький ансамбль, который может показать результаты получше."
   ]
  },
  {
   "cell_type": "code",
   "execution_count": 1,
   "metadata": {},
   "outputs": [],
   "source": [
    "import pandas as pd\n",
    "import re\n",
    "import os\n",
    "import nltk\n",
    "from nltk.corpus import stopwords\n",
    "from nltk.stem.porter import *\n",
    "import bisect\n",
    "from sklearn.model_selection import train_test_split\n",
    "from sklearn.linear_model import LogisticRegression\n",
    "from sklearn.metrics import f1_score\n",
    "from sklearn.feature_extraction.text import CountVectorizer\n",
    "import pickle"
   ]
  },
  {
   "cell_type": "code",
   "execution_count": 2,
   "metadata": {},
   "outputs": [],
   "source": [
    "df = pd.read_csv(os.path.join('data', 'preprocessed_train.csv'))"
   ]
  },
  {
   "cell_type": "markdown",
   "metadata": {},
   "source": [
    "Сделаем препроцессинг описаний фильмов стеммером"
   ]
  },
  {
   "cell_type": "code",
   "execution_count": 3,
   "metadata": {},
   "outputs": [
    {
     "name": "stderr",
     "output_type": "stream",
     "text": [
      "[nltk_data] Downloading package stopwords to /root/nltk_data...\n",
      "[nltk_data]   Package stopwords is already up-to-date!\n"
     ]
    }
   ],
   "source": [
    "nltk.download('stopwords')\n",
    "\n",
    "def preprocess_text(text: str) -> str:\n",
    "    stop_words = set(stopwords.words('english'))\n",
    "    stemmer = PorterStemmer()\n",
    "    remove_extra_symb: list[str] = re.sub(r'[^\\w^\\s]+', '', str(text)).lower().split()\n",
    "    return ' '.join([stemmer.stem(w) for w in remove_extra_symb if w not in stop_words])"
   ]
  },
  {
   "cell_type": "code",
   "execution_count": 4,
   "metadata": {},
   "outputs": [],
   "source": [
    "df['description'] = df['description'].apply(preprocess_text)\n",
    "df = df.drop(columns=['Unnamed: 0'])"
   ]
  },
  {
   "cell_type": "markdown",
   "metadata": {},
   "source": [
    "Разделим датасет на train и test и составим входы для моделей"
   ]
  },
  {
   "cell_type": "code",
   "execution_count": 5,
   "metadata": {},
   "outputs": [],
   "source": [
    "train_df, test_df = train_test_split(df, test_size=0.1, random_state=42)"
   ]
  },
  {
   "cell_type": "code",
   "execution_count": 6,
   "metadata": {},
   "outputs": [],
   "source": [
    "bow = CountVectorizer()\n",
    "x_train = bow.fit_transform(train_df['description'])\n",
    "y_train = train_df['revenue']\n",
    "x_test = bow.transform(test_df['description'])\n",
    "y_test = test_df['revenue']"
   ]
  },
  {
   "cell_type": "markdown",
   "metadata": {},
   "source": [
    "Попробуем всевозможные модели"
   ]
  },
  {
   "cell_type": "code",
   "execution_count": 7,
   "metadata": {},
   "outputs": [],
   "source": [
    "from sklearn.neighbors import KNeighborsClassifier\n",
    "from sklearn.svm import SVC\n",
    "from sklearn.naive_bayes import MultinomialNB\n",
    "from sklearn.tree import DecisionTreeClassifier\n",
    "from sklearn.ensemble import RandomForestClassifier"
   ]
  },
  {
   "cell_type": "code",
   "execution_count": 8,
   "metadata": {},
   "outputs": [],
   "source": [
    "def get_best_model(model_list: list):\n",
    "    best_model = None\n",
    "    best_score = 0\n",
    "    for model in model_list:\n",
    "        model.fit(x_train, y_train)\n",
    "        y_pred = model.predict(x_test)\n",
    "        score = f1_score(y_true=y_test, y_pred=y_pred, average='weighted')\n",
    "        print(f\"{type(model).__name__} F1 Score is: {score:.4f}\")\n",
    "        if score > best_score:\n",
    "            best_score = score\n",
    "            best_model = model\n",
    "    return best_model"
   ]
  },
  {
   "cell_type": "code",
   "execution_count": 9,
   "metadata": {},
   "outputs": [
    {
     "name": "stdout",
     "output_type": "stream",
     "text": [
      "LogisticRegression F1 Score is: 0.2371\n",
      "SVC F1 Score is: 0.2432\n",
      "SVC F1 Score is: 0.1073\n",
      "SVC F1 Score is: 0.1502\n",
      "MultinomialNB F1 Score is: 0.2389\n",
      "DecisionTreeClassifier F1 Score is: 0.1904\n",
      "RandomForestClassifier F1 Score is: 0.1688\n",
      "KNeighborsClassifier F1 Score is: 0.0560\n",
      "KNeighborsClassifier F1 Score is: 0.0260\n",
      "KNeighborsClassifier F1 Score is: 0.0959\n",
      "KNeighborsClassifier F1 Score is: 0.1060\n",
      "KNeighborsClassifier F1 Score is: 0.0807\n",
      "KNeighborsClassifier F1 Score is: 0.0818\n",
      "KNeighborsClassifier F1 Score is: 0.0601\n",
      "KNeighborsClassifier F1 Score is: 0.0644\n"
     ]
    }
   ],
   "source": [
    "model_list = [LogisticRegression(max_iter=2000), SVC(kernel='linear'), SVC(kernel='poly'), SVC(kernel='rbf'), MultinomialNB(), DecisionTreeClassifier(), RandomForestClassifier()]\n",
    "model_list += [KNeighborsClassifier(n_neighbors=x) for x in range(1, 16, 2)]\n",
    "model = get_best_model(model_list)"
   ]
  },
  {
   "cell_type": "markdown",
   "metadata": {},
   "source": [
    "Наилучший результат показала SVC с линейным ядром"
   ]
  },
  {
   "cell_type": "code",
   "execution_count": 10,
   "metadata": {},
   "outputs": [],
   "source": [
    "with open(os.path.join('data', 'text_model.pkl'), 'wb') as f:\n",
    "    pickle.dump((model, bow), f)"
   ]
  }
 ],
 "metadata": {
  "kernelspec": {
   "display_name": ".venv",
   "language": "python",
   "name": "python3"
  },
  "language_info": {
   "codemirror_mode": {
    "name": "ipython",
    "version": 3
   },
   "file_extension": ".py",
   "mimetype": "text/x-python",
   "name": "python",
   "nbconvert_exporter": "python",
   "pygments_lexer": "ipython3",
   "version": "3.10.12"
  }
 },
 "nbformat": 4,
 "nbformat_minor": 2
}
